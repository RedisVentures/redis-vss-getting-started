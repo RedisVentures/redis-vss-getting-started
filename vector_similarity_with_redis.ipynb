{
  "cells": [
    {
      "attachments": {},
      "cell_type": "markdown",
      "metadata": {},
      "source": [
        "[![Open In Colab](https://colab.research.google.com/assets/colab-badge.svg)](https://colab.research.google.com/github/bsbodden/redis_vss_getting_started/blob/main/vector_similarity_with_redis.ipynb) [![Open nbviewer](https://raw.githubusercontent.com/bsbodden/redis_vss_getting_started/main/assets/nbviewer-shield.svg)](https://nbviewer.org/github/bsbodden/redis_vss_getting_started/blob/main/vector_similarity_with_redis.ipynb)"
      ]
    },
    {
      "attachments": {},
      "cell_type": "markdown",
      "metadata": {
        "id": "tsTNahuVyEuH"
      },
      "source": [
        "# Similarity Search with Redis as a Vector Database"
      ]
    },
    {
      "attachments": {},
      "cell_type": "markdown",
      "metadata": {},
      "source": [
        "## The \"Unstructured Data\" Problem"
      ]
    },
    {
      "attachments": {},
      "cell_type": "markdown",
      "metadata": {},
      "source": [
        "Today, about 80% of the data organizations generate is \"unstructured\"; data that either does not have a well-defined schema or cannot be restructured into a familiar columnar format. Typical examples of unstructured data include free-form text, images, videos, and sound clips. Moreover, this data imbalance towards unstructured data is expected to grow in the coming decades.\n",
        "\n",
        "Unstructured data is high-dimensional and noisy,    making it more challenging to analyze and interpret using traditional methods. But it is also packed with information and meaning.  \n",
        "\n",
        "Traditionally, unstructured data is processed to extract specific features, effectively turning it into structured data. Once in the realm of structured data, we can search the data with SQL queries (if stored in a relational database) or with a text search engine. \n",
        "The approach of transforming unstructured data into structured data has a few issues; first, engineering features out of unstructured data can be computationally expensive and error-prone, significantly delaying when we can effectively use the data. And secondly, in the extractions/transformation process, lose fidelity and information since unique, 'latent' features are likely lost or overlooked because they can't be easily categorized or quantified."
      ]
    },
    {
      "attachments": {},
      "cell_type": "markdown",
      "metadata": {},
      "source": [
        "## Enter \"Vector Databases\""
      ]
    },
    {
      "attachments": {},
      "cell_type": "markdown",
      "metadata": {},
      "source": [
        "An approach to dealing with unstructured data is to \"vectorize\" such data. By \"vectorizing,\" we mean to somehow convert something like a text passage, an image, a video, or a song into a flat sequence of numbers representing a particular piece of data. These \"vectors\" are representations of the data in N-dimensional space. By vectorizing, we gain the ability to use linear algebra techniques to compare, group, and operate on our data. This is the foundation of a Vector Database; the ability to store and operate on vectors.\n",
        "This approach is not new and has been around for eons. The difference today is how the techniques for generating the vectors have advanced."
      ]
    },
    {
      "attachments": {},
      "cell_type": "markdown",
      "metadata": {},
      "source": [
        "## Using Machine Learning \"Embeddings\" as Vectors"
      ]
    },
    {
      "attachments": {},
      "cell_type": "markdown",
      "metadata": {},
      "source": [
        "Traditional methods for converting unstructured data into vector form include Bag-of-Words (BoW) and TF-IDF (Term Frequency-Inverse Document Frequency) for textual data. For categorical data, one-hot Encoding is a commonly used approach. And Hashing and Feature Extraction techniques, such as edge detection, texture analysis, or color histograms, have been employed for high-dimensionality data like images.\n",
        "\n",
        "While powerful in their own right, these approaches reveal limitations when confronted with high-dimensional and intricate data forms like long text passages, images, and audio. Consider, for example, how a text passage could be restructured—through sentence rearrangement, synonym usage, or alterations in narrative style. Such Simple modifications could effectively sidestep techniques like Bag-of-Words, preventing systems using the generated encodings from identifying texts with similar meanings.\n",
        "\n",
        "This is where advancements in Machine Learning, particularly Deep Learning, make their mark. Machine Learning models have facilitated the rise of 'embeddings' as a widely embraced method for generating dense, low-dimensional vector representations. Given a suitable model for the task at hand, the generated embeddings can encapsulate complex patterns and semantic meanings inherent in data, thus overcoming the limitations of their traditional counterparts."
      ]
    },
    {
      "attachments": {},
      "cell_type": "markdown",
      "metadata": {},
      "source": [
        "### Generating Embeddings for the \"Bikes\" Dataset\n",
        "\n",
        "To investigate Vector Similarity, we'll use a subset of the Bikes dataset, a relatively simple synthetic dataset. The dataset has 11 bicycle records in a JSON file named `bikes.json` and includes the fields `model`, `brand`, `price`, `type`, `specs`, and `description`. The `description` field is particularly interesting for our purposes since it consists of a free-form textual description of a bicycle."
      ]
    },
    {
      "attachments": {},
      "cell_type": "markdown",
      "metadata": {},
      "source": [
        "#### Loading JSON \"Bikes\" Dataset\n",
        "\n",
        "Let's load the bikes dataset as a JSON array:"
      ]
    },
    {
      "cell_type": "code",
      "execution_count": 1,
      "metadata": {},
      "outputs": [],
      "source": [
        "import requests\n",
        "import json\n",
        "\n",
        "url = 'https://raw.githubusercontent.com/bsbodden/redis_vss_getting_started/main/data/bikes.json'\n",
        "response = requests.get(url)\n",
        "bikes = json.loads(response.text)"
      ]
    },
    {
      "attachments": {},
      "cell_type": "markdown",
      "metadata": {},
      "source": [
        "#### Inspect the Bikes JSON\n",
        "\n",
        "Let's inspect the content of the JSON array in table form using the Pandas framework:"
      ]
    },
    {
      "cell_type": "code",
      "execution_count": 2,
      "metadata": {},
      "outputs": [
        {
          "name": "stdout",
          "output_type": "stream",
          "text": [
            "Note: you may need to restart the kernel to use updated packages.\n"
          ]
        },
        {
          "data": {
            "text/html": [
              "<div>\n",
              "<style scoped>\n",
              "    .dataframe tbody tr th:only-of-type {\n",
              "        vertical-align: middle;\n",
              "    }\n",
              "\n",
              "    .dataframe tbody tr th {\n",
              "        vertical-align: top;\n",
              "    }\n",
              "\n",
              "    .dataframe thead th {\n",
              "        text-align: right;\n",
              "    }\n",
              "</style>\n",
              "<table border=\"1\" class=\"dataframe\">\n",
              "  <thead>\n",
              "    <tr style=\"text-align: right;\">\n",
              "      <th></th>\n",
              "      <th>model</th>\n",
              "      <th>brand</th>\n",
              "      <th>price</th>\n",
              "      <th>type</th>\n",
              "      <th>specs</th>\n",
              "      <th>description</th>\n",
              "    </tr>\n",
              "  </thead>\n",
              "  <tbody>\n",
              "    <tr>\n",
              "      <th>0</th>\n",
              "      <td>Jigger</td>\n",
              "      <td>Velorim</td>\n",
              "      <td>270</td>\n",
              "      <td>Kids bikes</td>\n",
              "      <td>{'material': 'aluminium', 'weight': '10'}</td>\n",
              "      <td>Small and powerful, the Jigger is the best rid...</td>\n",
              "    </tr>\n",
              "    <tr>\n",
              "      <th>1</th>\n",
              "      <td>Hillcraft</td>\n",
              "      <td>Bicyk</td>\n",
              "      <td>1200</td>\n",
              "      <td>Kids Mountain Bikes</td>\n",
              "      <td>{'material': 'carbon', 'weight': '11'}</td>\n",
              "      <td>Kids want to ride with as little weight as pos...</td>\n",
              "    </tr>\n",
              "    <tr>\n",
              "      <th>2</th>\n",
              "      <td>Chook air 5</td>\n",
              "      <td>Nord</td>\n",
              "      <td>815</td>\n",
              "      <td>Kids Mountain Bikes</td>\n",
              "      <td>{'material': 'alloy', 'weight': '9.1'}</td>\n",
              "      <td>The Chook Air 5  gives kids aged six years and...</td>\n",
              "    </tr>\n",
              "    <tr>\n",
              "      <th>3</th>\n",
              "      <td>Eva 291</td>\n",
              "      <td>Eva</td>\n",
              "      <td>3400</td>\n",
              "      <td>Mountain Bikes</td>\n",
              "      <td>{'material': 'carbon', 'weight': '9.1'}</td>\n",
              "      <td>The sister company to Nord, Eva launched in 20...</td>\n",
              "    </tr>\n",
              "    <tr>\n",
              "      <th>4</th>\n",
              "      <td>Kahuna</td>\n",
              "      <td>Noka Bikes</td>\n",
              "      <td>3200</td>\n",
              "      <td>Mountain Bikes</td>\n",
              "      <td>{'material': 'alloy', 'weight': '9.8'}</td>\n",
              "      <td>Whether you want to try your hand at XC racing...</td>\n",
              "    </tr>\n",
              "    <tr>\n",
              "      <th>5</th>\n",
              "      <td>XBN 2.1 Alloy</td>\n",
              "      <td>Breakout</td>\n",
              "      <td>810</td>\n",
              "      <td>Road Bikes</td>\n",
              "      <td>{'material': 'alloy', 'weight': '7.2'}</td>\n",
              "      <td>The XBN 2.1 Alloy is our entry-level road bike...</td>\n",
              "    </tr>\n",
              "    <tr>\n",
              "      <th>6</th>\n",
              "      <td>WattBike</td>\n",
              "      <td>ScramBikes</td>\n",
              "      <td>2300</td>\n",
              "      <td>eBikes</td>\n",
              "      <td>{'material': 'alloy', 'weight': '15'}</td>\n",
              "      <td>The WattBike is the best e-bike for people who...</td>\n",
              "    </tr>\n",
              "    <tr>\n",
              "      <th>7</th>\n",
              "      <td>Soothe Electric bike</td>\n",
              "      <td>Peaknetic</td>\n",
              "      <td>1950</td>\n",
              "      <td>eBikes</td>\n",
              "      <td>{'material': 'alloy', 'weight': '14.7'}</td>\n",
              "      <td>The Soothe is an everyday electric bike, from ...</td>\n",
              "    </tr>\n",
              "    <tr>\n",
              "      <th>8</th>\n",
              "      <td>Secto</td>\n",
              "      <td>Peaknetic</td>\n",
              "      <td>430</td>\n",
              "      <td>Commuter bikes</td>\n",
              "      <td>{'material': 'aluminium', 'weight': '10.0'}</td>\n",
              "      <td>If you struggle with stiff fingers or a kinked...</td>\n",
              "    </tr>\n",
              "    <tr>\n",
              "      <th>9</th>\n",
              "      <td>Summit</td>\n",
              "      <td>nHill</td>\n",
              "      <td>1200</td>\n",
              "      <td>Mountain Bike</td>\n",
              "      <td>{'material': 'alloy', 'weight': '11.3'}</td>\n",
              "      <td>This budget mountain bike from nHill performs ...</td>\n",
              "    </tr>\n",
              "    <tr>\n",
              "      <th>10</th>\n",
              "      <td>ThrillCycle</td>\n",
              "      <td>BikeShind</td>\n",
              "      <td>815</td>\n",
              "      <td>Commuter Bikes</td>\n",
              "      <td>{'material': 'alloy', 'weight': '12.7'}</td>\n",
              "      <td>An artsy,  retro-inspired bicycle that’s as fu...</td>\n",
              "    </tr>\n",
              "  </tbody>\n",
              "</table>\n",
              "</div>"
            ],
            "text/plain": [
              "                   model       brand  price                 type   \n",
              "0                 Jigger     Velorim    270           Kids bikes  \\\n",
              "1              Hillcraft       Bicyk   1200  Kids Mountain Bikes   \n",
              "2            Chook air 5        Nord    815  Kids Mountain Bikes   \n",
              "3                Eva 291         Eva   3400       Mountain Bikes   \n",
              "4                 Kahuna  Noka Bikes   3200       Mountain Bikes   \n",
              "5          XBN 2.1 Alloy    Breakout    810           Road Bikes   \n",
              "6               WattBike  ScramBikes   2300               eBikes   \n",
              "7   Soothe Electric bike   Peaknetic   1950               eBikes   \n",
              "8                  Secto   Peaknetic    430       Commuter bikes   \n",
              "9                 Summit       nHill   1200        Mountain Bike   \n",
              "10           ThrillCycle   BikeShind    815       Commuter Bikes   \n",
              "\n",
              "                                          specs   \n",
              "0     {'material': 'aluminium', 'weight': '10'}  \\\n",
              "1        {'material': 'carbon', 'weight': '11'}   \n",
              "2        {'material': 'alloy', 'weight': '9.1'}   \n",
              "3       {'material': 'carbon', 'weight': '9.1'}   \n",
              "4        {'material': 'alloy', 'weight': '9.8'}   \n",
              "5        {'material': 'alloy', 'weight': '7.2'}   \n",
              "6         {'material': 'alloy', 'weight': '15'}   \n",
              "7       {'material': 'alloy', 'weight': '14.7'}   \n",
              "8   {'material': 'aluminium', 'weight': '10.0'}   \n",
              "9       {'material': 'alloy', 'weight': '11.3'}   \n",
              "10      {'material': 'alloy', 'weight': '12.7'}   \n",
              "\n",
              "                                          description  \n",
              "0   Small and powerful, the Jigger is the best rid...  \n",
              "1   Kids want to ride with as little weight as pos...  \n",
              "2   The Chook Air 5  gives kids aged six years and...  \n",
              "3   The sister company to Nord, Eva launched in 20...  \n",
              "4   Whether you want to try your hand at XC racing...  \n",
              "5   The XBN 2.1 Alloy is our entry-level road bike...  \n",
              "6   The WattBike is the best e-bike for people who...  \n",
              "7   The Soothe is an everyday electric bike, from ...  \n",
              "8   If you struggle with stiff fingers or a kinked...  \n",
              "9   This budget mountain bike from nHill performs ...  \n",
              "10  An artsy,  retro-inspired bicycle that’s as fu...  "
            ]
          },
          "execution_count": 2,
          "metadata": {},
          "output_type": "execute_result"
        }
      ],
      "source": [
        "%pip -q install pandas\n",
        "import pandas as pd\n",
        "\n",
        "pd.DataFrame(bikes)"
      ]
    },
    {
      "attachments": {},
      "cell_type": "markdown",
      "metadata": {},
      "source": [
        "Let's take a look at the structure of one of our bike JSON documents:"
      ]
    },
    {
      "cell_type": "code",
      "execution_count": 3,
      "metadata": {},
      "outputs": [
        {
          "name": "stdout",
          "output_type": "stream",
          "text": [
            "{\n",
            "  \"model\": \"Jigger\",\n",
            "  \"brand\": \"Velorim\",\n",
            "  \"price\": 270,\n",
            "  \"type\": \"Kids bikes\",\n",
            "  \"specs\": {\n",
            "    \"material\": \"aluminium\",\n",
            "    \"weight\": \"10\"\n",
            "  },\n",
            "  \"description\": \"Small and powerful, the Jigger is the best ride for the smallest of tikes! This is the tiniest kids\\u2019 pedal bike on the market available without a coaster brake, the Jigger is the vehicle of choice for the rare tenacious little rider raring to go. We say rare because this smokin\\u2019 little bike is not ideal for a nervous first-time rider, but it\\u2019s a true giddy up for a true speedster. The Jigger is a 12 inch lightweight kids bicycle and it will meet your little one\\u2019s need for speed. It\\u2019s a single speed bike that makes learning to pump pedals simple and intuitive. It even has  a handle in the bottom of the saddle so you can easily help your child during training!  The Jigger is among the most lightweight children\\u2019s bikes on the planet. It is designed so that 2-3 year-olds fit comfortably in a molded ride position that allows for efficient riding, balanced handling and agility. The Jigger\\u2019s frame design and gears work together so your buddingbiker can stand up out of the seat, stop rapidly, rip over trails and pump tracks. The Jigger\\u2019s is amazing on dirt or pavement. Your tike will speed down the bike path in no time. The Jigger will ship with a coaster brake. A freewheel kit is provided at no cost. \"\n",
            "}\n"
          ]
        }
      ],
      "source": [
        "print(json.dumps(bikes[0], indent=2))"
      ]
    },
    {
      "attachments": {},
      "cell_type": "markdown",
      "metadata": {},
      "source": [
        "#### Generating Text Embeddings using SentenceTransformers\n",
        "\n",
        "We will use the [SentenceTransformers](https://www.sbert.net/) framework to generate embeddings for the bikes descriptions. Sentence-BERT (SBERT) is a BERT model modification that produces consistent and contextually rich sentence embeddings. SBERT improves tasks like semantic search and text grouping by allowing for efficient and meaningful comparison of sentence-level semantic similarity.\n",
        "\n",
        "Let's start by installing `sentence-transformers`:"
      ]
    },
    {
      "cell_type": "code",
      "execution_count": 4,
      "metadata": {},
      "outputs": [
        {
          "name": "stdout",
          "output_type": "stream",
          "text": [
            "Note: you may need to restart the kernel to use updated packages.\n"
          ]
        }
      ],
      "source": [
        "%pip install -U -q sentence-transformers"
      ]
    },
    {
      "attachments": {},
      "cell_type": "markdown",
      "metadata": {},
      "source": [
        "### Selecting a suitable pre-trained Model\n",
        "\n",
        "We must pick a suitable model based on the task at hand when generating embeddings. In our case, we want to query for bicycles using short sentences against the longer bicycle descriptions. This is referred to as \"Asymmetric Semantic Search,\" often employed in cases where the search query and the documents being searched are of different nature or structure. Suitable models for asymmetric semantic search include pre-trained [MS MARCO](https://microsoft.github.io/msmarco/) Models. MS MARCO models are trained on the **M**icro**S**oft **MA**chine **R**eading **CO**mprehension dataset, and are optimized for understanding real-world queries and retrieving relevant responses. They are widely used in search engines, chatbots, and other AI applications. At the time of this writing, the highest performing MS MARCO model tuned for cosine-similarity available from SentenceTranformers is `msmarco-distilbert-base-v4`. \n",
        "\n",
        "Let's load the model using the `SentenceTransformer` function:"
      ]
    },
    {
      "cell_type": "code",
      "execution_count": 5,
      "metadata": {},
      "outputs": [],
      "source": [
        "from sentence_transformers import SentenceTransformer\n",
        "\n",
        "embedder = SentenceTransformer('msmarco-distilbert-base-v4')"
      ]
    },
    {
      "attachments": {},
      "cell_type": "markdown",
      "metadata": {},
      "source": [
        "Let's grab the description from the first bike in the JSON array:"
      ]
    },
    {
      "cell_type": "code",
      "execution_count": 6,
      "metadata": {},
      "outputs": [
        {
          "data": {
            "text/plain": [
              "['Small and powerful, the Jigger is the best ride for the smallest of tikes! This is the tiniest kids’ pedal bike on the',\n",
              " 'market available without a coaster brake, the Jigger is the vehicle of choice for the rare tenacious little rider raring',\n",
              " 'to go. We say rare because this smokin’ little bike is not ideal for a nervous first-time rider, but it’s a true giddy',\n",
              " 'up for a true speedster. The Jigger is a 12 inch lightweight kids bicycle and it will meet your little one’s need for',\n",
              " 'speed. It’s a single speed bike that makes learning to pump pedals simple and intuitive. It even has  a handle in the',\n",
              " 'bottom of the saddle so you can easily help your child during training!  The Jigger is among the most lightweight',\n",
              " 'children’s bikes on the planet. It is designed so that 2-3 year-olds fit comfortably in a molded ride position that',\n",
              " 'allows for efficient riding, balanced handling and agility. The Jigger’s frame design and gears work together so your',\n",
              " 'buddingbiker can stand up out of the seat, stop rapidly, rip over trails and pump tracks. The Jigger’s is amazing on',\n",
              " 'dirt or pavement. Your tike will speed down the bike path in no time. The Jigger will ship with a coaster brake. A',\n",
              " 'freewheel kit is provided at no cost.']"
            ]
          },
          "execution_count": 6,
          "metadata": {},
          "output_type": "execute_result"
        }
      ],
      "source": [
        "from textwrap import TextWrapper\n",
        "\n",
        "sample_description = bikes[0]['description']\n",
        "TextWrapper(width=120).wrap(sample_description)"
      ]
    },
    {
      "attachments": {},
      "cell_type": "markdown",
      "metadata": {},
      "source": [
        "To generate the vector embeddings, we use the `encode` function:"
      ]
    },
    {
      "cell_type": "code",
      "execution_count": 7,
      "metadata": {},
      "outputs": [],
      "source": [
        "embedding = embedder.encode(sample_description)"
      ]
    },
    {
      "attachments": {},
      "cell_type": "markdown",
      "metadata": {},
      "source": [
        "Let's take a peek at the first 5 elements of the generated vector:"
      ]
    },
    {
      "cell_type": "code",
      "execution_count": 8,
      "metadata": {},
      "outputs": [
        {
          "name": "stdout",
          "output_type": "stream",
          "text": [
            "[0.20076484978199005, -0.1300073117017746, 0.3081613779067993, 0.2062796652317047, -0.3692358434200287]\n"
          ]
        }
      ],
      "source": [
        "print(embedding.tolist()[:5])"
      ]
    },
    {
      "attachments": {},
      "cell_type": "markdown",
      "metadata": {},
      "source": [
        "Let's also extract the length of the vector embeddings generated by the model, which we'll store in the constant `VECTOR_DIMENSION`, which we'll use later when working with Redis indices:"
      ]
    },
    {
      "cell_type": "code",
      "execution_count": 9,
      "metadata": {},
      "outputs": [
        {
          "data": {
            "text/plain": [
              "768"
            ]
          },
          "execution_count": 9,
          "metadata": {},
          "output_type": "execute_result"
        }
      ],
      "source": [
        "VECTOR_DIMENSION = len(embedding)\n",
        "VECTOR_DIMENSION"
      ]
    },
    {
      "attachments": {},
      "cell_type": "markdown",
      "metadata": {},
      "source": [
        "The chosen model generates vector embeddings of length `768` regardless of the length of the input text."
      ]
    },
    {
      "attachments": {},
      "cell_type": "markdown",
      "metadata": {},
      "source": [
        "## Storing our bikes in Redis"
      ]
    },
    {
      "attachments": {},
      "cell_type": "markdown",
      "metadata": {
        "id": "VaKJPJ21JQRe"
      },
      "source": [
        "### Redis Stack Setup\n",
        "\n",
        "Now that we know how to vectorize the bikes descriptions, it's time to start working with Redis. If you are working in a Google Colab environment, the code below will download, install and start the Redis Stack Server:"
      ]
    },
    {
      "cell_type": "code",
      "execution_count": 10,
      "metadata": {},
      "outputs": [],
      "source": [
        "in_colab = 'google.colab' in str(get_ipython())\n",
        "if in_colab:\n",
        "  !curl -fsSL https://packages.redis.io/redis-stack/redis-stack-server-6.2.6-v7.focal.x86_64.tar.gz -o redis-stack-server.tar.gz\n",
        "  !tar -xvf redis-stack-server.tar.gz\n",
        "  !./redis-stack-server-6.2.6-v7/bin/redis-stack-server --daemonize yes"
      ]
    },
    {
      "attachments": {},
      "cell_type": "markdown",
      "metadata": {},
      "source": [
        "Otherwise, you can download and run Redis Stack Server with docker. [See instructions here](https://redis.io/docs/stack/get-started/install/docker/)."
      ]
    },
    {
      "attachments": {},
      "cell_type": "markdown",
      "metadata": {
        "id": "kiwmgzpYJi8e"
      },
      "source": [
        "### Redis Python Client\n",
        "\n",
        "To interact with Redis, we'll install the [`redis-py`](https://github.com/redis/redis-py) client library, which encapsulates the commands to work with OSS Redis as well as Redis Stack:"
      ]
    },
    {
      "cell_type": "code",
      "execution_count": 11,
      "metadata": {
        "colab": {
          "base_uri": "https://localhost:8080/"
        },
        "id": "dULI4zyHllPn",
        "outputId": "a4a68b54-eb4f-41ea-bb5b-25917ed0676a"
      },
      "outputs": [
        {
          "name": "stdout",
          "output_type": "stream",
          "text": [
            "huggingface/tokenizers: The current process just got forked, after parallelism has already been used. Disabling parallelism to avoid deadlocks...\n",
            "To disable this warning, you can either:\n",
            "\t- Avoid using `tokenizers` before the fork if possible\n",
            "\t- Explicitly set the environment variable TOKENIZERS_PARALLELISM=(true | false)\n",
            "Note: you may need to restart the kernel to use updated packages.\n"
          ]
        }
      ],
      "source": [
        "%pip install -q redis"
      ]
    },
    {
      "attachments": {},
      "cell_type": "markdown",
      "metadata": {
        "id": "ZJiYDtclJzvR"
      },
      "source": [
        "#### Create a `redis-py` client and test the server\n",
        "\n",
        "We'll instantiate the Redis client, connecting to the localhost on Redis' default port `6379`. By default, Redis returns binary responses; to decode them, we'll pass the `decode_responses` parameter set to `True`:"
      ]
    },
    {
      "cell_type": "code",
      "execution_count": 12,
      "metadata": {
        "colab": {
          "base_uri": "https://localhost:8080/"
        },
        "id": "dssqMRpNzAkP",
        "outputId": "1bbd14a6-f890-46de-ed37-3ee412e9859a"
      },
      "outputs": [],
      "source": [
        "import redis\n",
        "client = redis.Redis(host = 'localhost', port=6379, decode_responses=True)"
      ]
    },
    {
      "attachments": {},
      "cell_type": "markdown",
      "metadata": {},
      "source": [
        "Let's use Redis' [`PING`](https://redis.io/commands/ping/) command to check that Redis is up and running:"
      ]
    },
    {
      "cell_type": "code",
      "execution_count": 13,
      "metadata": {},
      "outputs": [
        {
          "data": {
            "text/plain": [
              "True"
            ]
          },
          "execution_count": 13,
          "metadata": {},
          "output_type": "execute_result"
        }
      ],
      "source": [
        "client.ping()"
      ]
    },
    {
      "attachments": {},
      "cell_type": "markdown",
      "metadata": {},
      "source": [
        "### Storing the Bikes as JSON Documents in Redis\n",
        "\n",
        "Redis Stack includes [JSON](https://redis.io/docs/stack/json/) functionality. Like any other Redis data type, the JSON datatype allows you to use Redis commands to save, update, and retrieve JSON values. \n",
        "Since we already have the bikes data loaded in memory as the `bikes` JSON array. We will iterate over `bikes`, generate a suitable Redis key and store them in Redis using the [`JSON.SET`](https://redis.io/commands/json.set/) command. We'll do this [pipeline](https://redis.io/docs/manual/pipelining/) mode to minimize the round-trip times:"
      ]
    },
    {
      "cell_type": "code",
      "execution_count": 14,
      "metadata": {
        "colab": {
          "base_uri": "https://localhost:8080/"
        },
        "id": "vFVu3GM-VXma",
        "outputId": "058341a8-424c-40e1-e84c-6d2d3429661e"
      },
      "outputs": [
        {
          "data": {
            "text/plain": [
              "[True, True, True, True, True, True, True, True, True, True, True]"
            ]
          },
          "execution_count": 14,
          "metadata": {},
          "output_type": "execute_result"
        }
      ],
      "source": [
        "pipeline = client.pipeline()\n",
        "\n",
        "for i, bike in enumerate(bikes, start=1):\n",
        "    redis_key = f'bikes:{i:03}'\n",
        "    pipeline.json().set(redis_key, '$', bike)\n",
        "\n",
        "pipeline.execute()"
      ]
    },
    {
      "attachments": {},
      "cell_type": "markdown",
      "metadata": {
        "id": "fhREF_xwKqY3"
      },
      "source": [
        "Let's retrieve a specific value from one of the JSON bikes in Redis using a [JSONPath](https://goessner.net/articles/JsonPath/) expression:"
      ]
    },
    {
      "cell_type": "code",
      "execution_count": 15,
      "metadata": {
        "colab": {
          "base_uri": "https://localhost:8080/"
        },
        "id": "208hSDzxhvZw",
        "outputId": "f42afd46-06e4-4458-9fba-d103ee389782"
      },
      "outputs": [
        {
          "data": {
            "text/plain": [
              "['Summit']"
            ]
          },
          "execution_count": 15,
          "metadata": {},
          "output_type": "execute_result"
        }
      ],
      "source": [
        "client.json().get('bikes:010', '$.model')"
      ]
    },
    {
      "attachments": {},
      "cell_type": "markdown",
      "metadata": {
        "id": "cIlXb-Y2QcVb"
      },
      "source": [
        "### Vectorize all of the Bikes Descriptions\n",
        "\n",
        "To vectorize all the descriptions in the database, we will first collect all the Redis keys for the bikes:"
      ]
    },
    {
      "cell_type": "code",
      "execution_count": 16,
      "metadata": {},
      "outputs": [
        {
          "name": "stdout",
          "output_type": "stream",
          "text": [
            "['bikes:001', 'bikes:002', 'bikes:003', 'bikes:004', 'bikes:005', 'bikes:006', 'bikes:007', 'bikes:008', 'bikes:009', 'bikes:010', 'bikes:011']\n"
          ]
        }
      ],
      "source": [
        "keys = sorted(client.keys('bikes:*'))\n",
        "print(keys)"
      ]
    },
    {
      "attachments": {},
      "cell_type": "markdown",
      "metadata": {},
      "source": [
        "We'll use the keys as a parameter to the [`JSON.MGET`](https://redis.io/commands/json.mget/) command, along with the JSONPath expression `$.description` to collect the descriptions in a list which we will then pass to the `encode` method to get a list of vectorized embeddings:"
      ]
    },
    {
      "cell_type": "code",
      "execution_count": 17,
      "metadata": {
        "id": "juIELWOeIl7T"
      },
      "outputs": [],
      "source": [
        "import numpy as np\n",
        "\n",
        "descriptions = client.json().mget(keys, '$.description')\n",
        "descriptions = [item for sublist in descriptions for item in sublist]\n",
        "embeddings = embedder.encode(descriptions).astype(np.float32).tolist()"
      ]
    },
    {
      "attachments": {},
      "cell_type": "markdown",
      "metadata": {
        "id": "JDgOYEAeQj_C"
      },
      "source": [
        "Now we can add the vectorized descriptions to the JSON documents in Redis using the `JSON.SET` command to insert a new field in each of the documents under the JSONPath `$.description_embeddings`, once again we'll do this in pipeline mode:"
      ]
    },
    {
      "cell_type": "code",
      "execution_count": 18,
      "metadata": {
        "colab": {
          "base_uri": "https://localhost:8080/"
        },
        "id": "7EQpUGSdDzX8",
        "outputId": "744befe8-5260-46f8-ad2d-4c523ae16c1b"
      },
      "outputs": [
        {
          "data": {
            "text/plain": [
              "[True, True, True, True, True, True, True, True, True, True, True]"
            ]
          },
          "execution_count": 18,
          "metadata": {},
          "output_type": "execute_result"
        }
      ],
      "source": [
        "pipeline = client.pipeline()\n",
        "\n",
        "for key, embedding in zip(keys, embeddings):\n",
        "    pipeline.json().set(key, '$.description_embeddings', embedding)\n",
        "\n",
        "pipeline.execute()"
      ]
    },
    {
      "attachments": {},
      "cell_type": "markdown",
      "metadata": {
        "id": "G4AgPO17QspM"
      },
      "source": [
        "Let's inspect one of the vectorized bike documents using the `JSON.GET` command:"
      ]
    },
    {
      "cell_type": "code",
      "execution_count": 19,
      "metadata": {
        "colab": {
          "base_uri": "https://localhost:8080/"
        },
        "id": "PNmpOjy3OWM3",
        "outputId": "d365f641-8de6-4773-dda5-70f971436514"
      },
      "outputs": [
        {
          "name": "stdout",
          "output_type": "stream",
          "text": [
            "{\n",
            "  \"model\": \"Summit\",\n",
            "  \"brand\": \"nHill\",\n",
            "  \"price\": 1200,\n",
            "  \"type\": \"Mountain Bike\",\n",
            "  \"specs\": {\n",
            "    \"material\": \"alloy\",\n",
            "    \"weight\": \"11.3\"\n",
            "  },\n",
            "  \"description\": \"This budget mountain bike from nHill performs well both on bike paths and on the trail. The fork with 100mm of travel absorbs rough terrain. Fat Kenda Booster tires give you grip in corners and on wet trails. The Shimano Tourney drivetrain offered enough gears for finding a comfortable pace to ride uphill, and the Tektro hydraulic disc brakes break smoothly. Whether you want an affordable bike that you can take to work, but also take trail riding on the weekends or you\\u2019re just after a stable, comfortable ride for the bike path, the Summit gives a good value for money.\",\n",
            "  \"description_embeddings\": [\n",
            "    -0.5381147265434265,\n",
            "    -0.4946592152118683,\n",
            "    -0.025176815688610077,\n",
            "    0.6540350914001465,\n",
            "    -0.06241396814584732,\n",
            "    -0.6898809671401978,\n",
            "    -0.5430220365524292,\n",
            "    -0.5903496146202087,\n",
            "    0.5061324238777161,\n",
            "    0.20084969699382785,\n",
            "    0.8015643954277039,\n",
            "    1.0688022375106812,\n",
            "    0.6989426612854004,\n",
            "    -0.594090461730957,\n",
            "    0.17186464369297028,\n",
            "    -0.7504556179046631,\n",
            "    0.3871307969093323,\n",
            "    -0.4596227705478668,\n",
            "    -0.033491577953100204,\n",
            "    -0.012831144966185091,\n",
            "    0.13192962110042572,\n",
            "    -0.5524489879608154,\n",
            "    0.4882052540779114,\n",
            "    -0.2358834594488144,\n",
            "    0.2463008463382721,\n",
            "    0.8020278811454773,\n",
            "    0.5976319313049316,\n",
            "    0.761469304561615,\n",
            "    -0.24015463888645172,\n",
            "    0.2861470878124237,\n",
            "    0.021866420283913612,\n",
            "    0.1888228803873062,\n",
            "    -0.12812615931034088,\n",
            "    0.1695767641067505,\n",
            "    0.46753957867622375,\n",
            "    0.2592991888523102,\n",
            "    0.6704118847846985,\n",
            "    -0.30113404989242554,\n",
            "    0.1849208623170853,\n",
            "    0.08969039469957352,\n",
            "    0.26480725407600403,\n",
            "    0.22632068395614624,\n",
            "    -0.516548216342926,\n",
            "    0.2610602080821991,\n",
            "    -0.024005481973290443,\n",
            "    0.3114420175552368,\n",
            "    -0.2891808748245239,\n",
            "    -0.35463032126426697,\n",
            "    0.28298264741897583,\n",
            "    -0.8389976024627686,\n",
            "    -0.05901696905493736,\n",
            "    -0.18749044835567472,\n",
            "    -0.31679674983024597,\n",
            "    0.3360649645328522,\n",
            "    0.023940525949001312,\n",
            "    0.21229560673236847,\n",
            "    0.3039529621601105,\n",
            "    -0.10102706402540208,\n",
            "    -0.05963033437728882,\n",
            "    0.4740099012851715,\n",
            "    -0.5905973315238953,\n",
            "    -0.40316566824913025,\n",
            "    0.078122578561306,\n",
            "    0.2005677968263626,\n",
            "    -0.5902971625328064,\n",
            "    -0.0976753681898117,\n",
            "    0.2963539958000183,\n",
            "    -0.08527056127786636,\n",
            "    0.31105858087539673,\n",
            "    0.4469988942146301,\n",
            "    0.3054926097393036,\n",
            "    0.09557730704545976,\n",
            "    0.0598294772207737,\n",
            "    0.6428741812705994,\n",
            "    0.32311660051345825,\n",
            "    0.20170076191425323,\n",
            "    -0.6351252198219299,\n",
            "    0.14461567997932434,\n",
            "    0.09051239490509032,\n",
            "    -0.03918752819299698,\n",
            "    0.06271769851446152,\n",
            "    0.24273326992988584,\n",
            "    0.04995175823569298,\n",
            "    -0.0475226454436779,\n",
            "    -0.09225005656480788,\n",
            "    0.13156060874462128,\n",
            "    0.19861899316310885,\n",
            "    -0.12237410247325896,\n",
            "    -0.27997511625289917,\n",
            "    0.4379447102546692,\n",
            "    0.0673503577709198,\n",
            "    -0.5184993743896484,\n",
            "    0.2469520717859268,\n",
            "    0.14081405103206637,\n",
            "    0.07050559669733047,\n",
            "    0.10276848077774048,\n",
            "    0.10232646763324738,\n",
            "    0.10538452863693236,\n",
            "    0.4192569553852082,\n",
            "    0.1435086876153946,\n",
            "    0.9640527367591858,\n",
            "    0.007707065436989069,\n",
            "    0.14736251533031464,\n",
            "    -0.08167099952697754,\n",
            "    -0.3862298130989074,\n",
            "    -0.49869078397750854,\n",
            "    0.04468633234500885,\n",
            "    -0.44564536213874817,\n",
            "    -0.3988712131977082,\n",
            "    0.1871778517961502,\n",
            "    -0.28899070620536804,\n",
            "    -0.04563475400209427,\n",
            "    0.26715442538261414,\n",
            "    0.27984705567359924,\n",
            "    0.31355634331703186,\n",
            "    0.04133647307753563,\n",
            "    -0.5566990971565247,\n",
            "    -0.01816530153155327,\n",
            "    -0.2121829092502594,\n",
            "    0.31322556734085083,\n",
            "    0.6287633180618286,\n",
            "    0.051548704504966736,\n",
            "    -0.0907670557498932,\n",
            "    0.03256090730428696,\n",
            "    0.6196541786193848,\n",
            "    0.035484980791807175,\n",
            "    -0.4422955811023712,\n",
            "    0.19347228109836576,\n",
            "    0.4343233704566955,\n",
            "    0.05877818167209625,\n",
            "    -0.2769082188606262,\n",
            "    -0.805124819278717,\n",
            "    -0.038749318569898605,\n",
            "    -0.1024363860487938,\n",
            "    0.530028223991394,\n",
            "    0.08630651980638504,\n",
            "    0.171514630317688,\n",
            "    -0.3265250623226166,\n",
            "    0.39523687958717346,\n",
            "    -0.30250778794288635,\n",
            "    0.00313568115234375,\n",
            "    0.5480347275733948,\n",
            "    0.3797753155231476,\n",
            "    -0.29795777797698975,\n",
            "    0.4122603833675385,\n",
            "    0.49509069323539734,\n",
            "    0.23852139711380005,\n",
            "    -0.7053174376487732,\n",
            "    0.1469424068927765,\n",
            "    -0.2918239235877991,\n",
            "    -0.045893676578998566,\n",
            "    -0.24837680160999295,\n",
            "    0.4551840424537658,\n",
            "    0.1397337019443512,\n",
            "    0.03498269245028496,\n",
            "    0.26801803708076477,\n",
            "    -0.19169412553310392,\n",
            "    0.23150311410427096,\n",
            "    -0.04512434080243111,\n",
            "    -0.553530752658844,\n",
            "    -0.5038505792617798,\n",
            "    -0.4125506579875946,\n",
            "    0.03253466635942459,\n",
            "    0.123160257935524,\n",
            "    -0.15821705758571625,\n",
            "    -0.5978423357009888,\n",
            "    0.15085209906101227,\n",
            "    -0.28179407119750977,\n",
            "    0.03896106407046318,\n",
            "    -0.1429247409105301,\n",
            "    0.10689521580934525,\n",
            "    -0.0457906499505043,\n",
            "    -0.4101533889770508,\n",
            "    0.0945158377289772,\n",
            "    0.5251075625419617,\n",
            "    -0.5368605256080627,\n",
            "    0.13070152699947357,\n",
            "    -0.028141764923930168,\n",
            "    -0.7927539944648743,\n",
            "    0.1573517918586731,\n",
            "    -0.06539884209632874,\n",
            "    0.3915055394172669,\n",
            "    0.8629961013793945,\n",
            "    -0.08021830767393112,\n",
            "    0.19368647038936615,\n",
            "    -0.05219278857111931,\n",
            "    0.3862158954143524,\n",
            "    -0.15033787488937378,\n",
            "    -0.17858217656612396,\n",
            "    0.22253134846687317,\n",
            "    0.304318368434906,\n",
            "    -0.12058407068252563,\n",
            "    0.5396391153335571,\n",
            "    -0.40501075983047485,\n",
            "    0.0936884805560112,\n",
            "    0.09797924757003784,\n",
            "    0.0960126668214798,\n",
            "    -0.23936250805854797,\n",
            "    0.007301177363842726,\n",
            "    0.19247408211231232,\n",
            "    0.6849699020385742,\n",
            "    -0.24236999452114105,\n",
            "    0.19017013907432556,\n",
            "    -0.5123587250709534,\n",
            "    -0.6767674684524536,\n",
            "    0.42031383514404297,\n",
            "    -0.2973848283290863,\n",
            "    -0.07170797139406204,\n",
            "    0.17699918150901794,\n",
            "    -0.5528143644332886,\n",
            "    0.049932289868593216,\n",
            "    -0.20961534976959229,\n",
            "    -0.2923217713832855,\n",
            "    0.26552918553352356,\n",
            "    -0.3932393491268158,\n",
            "    0.1652868688106537,\n",
            "    0.4104454219341278,\n",
            "    0.4218277633190155,\n",
            "    0.46582090854644775,\n",
            "    0.5773612260818481,\n",
            "    0.45356518030166626,\n",
            "    0.053656645119190216,\n",
            "    0.012064536102116108,\n",
            "    0.10688531398773192,\n",
            "    -0.3417113721370697,\n",
            "    0.27404558658599854,\n",
            "    -0.4066794514656067,\n",
            "    0.1399388462305069,\n",
            "    -0.4670259356498718,\n",
            "    0.6416952013969421,\n",
            "    -0.11728494614362717,\n",
            "    -0.15365169942378998,\n",
            "    0.16644808650016785,\n",
            "    0.013416148722171783,\n",
            "    0.6865307688713074,\n",
            "    0.1631961315870285,\n",
            "    -0.13138900697231293,\n",
            "    -0.33914804458618164,\n",
            "    0.7143837213516235,\n",
            "    0.4153401851654053,\n",
            "    0.0508422888815403,\n",
            "    0.021625416353344917,\n",
            "    -0.39981338381767273,\n",
            "    0.36569535732269287,\n",
            "    -0.686107873916626,\n",
            "    0.2263188660144806,\n",
            "    0.2434169203042984,\n",
            "    -0.39389294385910034,\n",
            "    -0.29398488998413086,\n",
            "    -0.6988909840583801,\n",
            "    0.002374933334067464,\n",
            "    0.25577619671821594,\n",
            "    0.07733369618654251,\n",
            "    0.08562828600406647,\n",
            "    -0.46537676453590393,\n",
            "    -0.4722495973110199,\n",
            "    0.20465734601020813,\n",
            "    0.17218425869941711,\n",
            "    -0.05128250271081925,\n",
            "    -0.25902995467185974,\n",
            "    -0.24281570315361023,\n",
            "    0.21210581064224243,\n",
            "    -0.4047061800956726,\n",
            "    -0.016684679314494133,\n",
            "    -0.3682074546813965,\n",
            "    -0.3465367257595062,\n",
            "    0.019651947543025017,\n",
            "    0.5925342440605164,\n",
            "    -0.6207069754600525,\n",
            "    0.17721575498580933,\n",
            "    -0.07996445894241333,\n",
            "    0.11140979826450348,\n",
            "    0.9344689846038818,\n",
            "    -0.12326906621456146,\n",
            "    -0.7111533880233765,\n",
            "    -0.0584617555141449,\n",
            "    -0.012009487487375736,\n",
            "    0.441582053899765,\n",
            "    -0.3492439091205597,\n",
            "    0.27595266699790955,\n",
            "    0.24787205457687375,\n",
            "    0.455455482006073,\n",
            "    0.7593424320220947,\n",
            "    0.4516881704330444,\n",
            "    0.20077484846115112,\n",
            "    0.6386058330535889,\n",
            "    0.1254127472639084,\n",
            "    -0.15471820533275604,\n",
            "    -0.35669776797294617,\n",
            "    0.09352479130029678,\n",
            "    0.38097622990608215,\n",
            "    -0.19434942305088043,\n",
            "    0.19606679677963257,\n",
            "    -0.19388164579868317,\n",
            "    -0.12396439164876938,\n",
            "    0.10173912346363068,\n",
            "    0.0966041311621666,\n",
            "    -0.10971852391958235,\n",
            "    0.27553799748420715,\n",
            "    -0.019902436062693596,\n",
            "    0.19881071150302887,\n",
            "    0.008421024307608604,\n",
            "    0.04321746900677681,\n",
            "    0.3202623724937439,\n",
            "    0.38394489884376526,\n",
            "    -0.05447179451584816,\n",
            "    -0.598993718624115,\n",
            "    -0.2514650523662567,\n",
            "    -1.33419668674469,\n",
            "    0.5993680357933044,\n",
            "    0.31967222690582275,\n",
            "    -0.17753583192825317,\n",
            "    0.33832481503486633,\n",
            "    -0.5411826968193054,\n",
            "    -0.11117584258317947,\n",
            "    -0.33001962304115295,\n",
            "    -0.5902719497680664,\n",
            "    0.23765355348587036,\n",
            "    0.2559584379196167,\n",
            "    -0.5160521268844604,\n",
            "    0.1802698075771332,\n",
            "    -0.8441842794418335,\n",
            "    -0.32296207547187805,\n",
            "    0.33803871273994446,\n",
            "    0.269796222448349,\n",
            "    0.16679739952087402,\n",
            "    0.3271728456020355,\n",
            "    0.01640714704990387,\n",
            "    0.603448748588562,\n",
            "    -0.13774530589580536,\n",
            "    0.019703183323144913,\n",
            "    0.2464207410812378,\n",
            "    -0.1233530193567276,\n",
            "    0.4462408721446991,\n",
            "    0.2351045161485672,\n",
            "    0.3410489559173584,\n",
            "    -0.8825141787528992,\n",
            "    0.14720706641674042,\n",
            "    -0.11246267706155776,\n",
            "    0.2628151774406433,\n",
            "    0.4259587824344635,\n",
            "    0.3163038492202759,\n",
            "    -0.006870277691632509,\n",
            "    -0.5521697998046875,\n",
            "    0.8179331421852112,\n",
            "    0.598763108253479,\n",
            "    0.6024845838546753,\n",
            "    -0.06854124367237091,\n",
            "    -0.7556214928627014,\n",
            "    -0.1374962478876114,\n",
            "    0.8337657451629639,\n",
            "    0.105205200612545,\n",
            "    0.3683309257030487,\n",
            "    0.15196029841899872,\n",
            "    0.23144707083702087,\n",
            "    0.1318848729133606,\n",
            "    0.5445389151573181,\n",
            "    0.029217323288321495,\n",
            "    0.5117156505584717,\n",
            "    -0.8463572263717651,\n",
            "    -0.11278586834669112,\n",
            "    -0.00414605438709259,\n",
            "    -0.12626078724861145,\n",
            "    -0.5803459882736206,\n",
            "    0.10947896540164948,\n",
            "    0.17603111267089844,\n",
            "    0.35969996452331543,\n",
            "    0.1295921355485916,\n",
            "    -0.012910124845802784,\n",
            "    0.035483479499816895,\n",
            "    0.006262641865760088,\n",
            "    -0.38387084007263184,\n",
            "    -0.07806798815727234,\n",
            "    -0.08932656794786453,\n",
            "    0.8280884027481079,\n",
            "    -0.0409686304628849,\n",
            "    -0.07454737275838852,\n",
            "    -0.13294553756713867,\n",
            "    -0.6491230130195618,\n",
            "    -0.08123979717493057,\n",
            "    0.18086038529872897,\n",
            "    -0.3569028675556183,\n",
            "    0.15599370002746582,\n",
            "    -0.2716362774372101,\n",
            "    0.18710094690322876,\n",
            "    -0.1862119287252426,\n",
            "    -0.6854653358459473,\n",
            "    0.3722068965435028,\n",
            "    -0.10944530367851256,\n",
            "    -0.6613891124725342,\n",
            "    0.7218119502067566,\n",
            "    0.09575115889310835,\n",
            "    0.2342330515384674,\n",
            "    -0.34011462330818176,\n",
            "    -0.12799403071403503,\n",
            "    0.3037131130695343,\n",
            "    0.5078846216201782,\n",
            "    0.37794366478919983,\n",
            "    0.20686034858226776,\n",
            "    -0.1873515248298645,\n",
            "    -0.6132456660270691,\n",
            "    -0.1379690319299698,\n",
            "    0.30837467312812805,\n",
            "    -0.0363650806248188,\n",
            "    0.13156911730766296,\n",
            "    -0.6722036004066467,\n",
            "    -0.1676897406578064,\n",
            "    -0.4975341260433197,\n",
            "    -0.22944705188274384,\n",
            "    -0.05795781686902046,\n",
            "    0.2286045104265213,\n",
            "    0.0382118821144104,\n",
            "    -1.024591326713562,\n",
            "    -0.19394727051258087,\n",
            "    0.026300102472305294,\n",
            "    0.4419783055782318,\n",
            "    0.3656440973281861,\n",
            "    -0.1454438418149948,\n",
            "    -0.02202065661549568,\n",
            "    -0.1821063905954361,\n",
            "    -0.3334176242351532,\n",
            "    0.3778727352619171,\n",
            "    -0.4434641301631927,\n",
            "    -0.12724311649799347,\n",
            "    -0.6089416146278381,\n",
            "    -0.35377079248428345,\n",
            "    0.16983672976493835,\n",
            "    0.1871484667062759,\n",
            "    -0.15760695934295654,\n",
            "    0.28109046816825867,\n",
            "    0.10531241446733476,\n",
            "    -0.33909547328948975,\n",
            "    0.48867207765579224,\n",
            "    0.37441515922546387,\n",
            "    -0.3271524906158447,\n",
            "    -0.24311767518520355,\n",
            "    -0.3735649287700653,\n",
            "    -0.3703221082687378,\n",
            "    0.29897767305374146,\n",
            "    -0.28597205877304077,\n",
            "    0.4739570617675781,\n",
            "    0.08220648020505905,\n",
            "    -0.6677789688110352,\n",
            "    -0.4514791965484619,\n",
            "    -0.27840662002563477,\n",
            "    0.31505680084228516,\n",
            "    -0.17782390117645264,\n",
            "    0.10443238914012908,\n",
            "    -0.14896653592586517,\n",
            "    0.4152429699897766,\n",
            "    0.28736329078674316,\n",
            "    0.2885412573814392,\n",
            "    1.195546269416809,\n",
            "    -0.3249996602535248,\n",
            "    -0.8816061019897461,\n",
            "    -0.31057390570640564,\n",
            "    -0.2972462773323059,\n",
            "    -0.1230667233467102,\n",
            "    0.5406586527824402,\n",
            "    -0.060933638364076614,\n",
            "    -0.3939744532108307,\n",
            "    -0.04238610714673996,\n",
            "    0.2020837962627411,\n",
            "    0.3739273250102997,\n",
            "    -0.37581709027290344,\n",
            "    -0.10956865549087524,\n",
            "    0.4194422364234924,\n",
            "    -0.37599509954452515,\n",
            "    0.6869874000549316,\n",
            "    0.0297439806163311,\n",
            "    0.5274143815040588,\n",
            "    0.4458698034286499,\n",
            "    0.13637124001979828,\n",
            "    0.6850504279136658,\n",
            "    0.12861034274101257,\n",
            "    -0.3649786412715912,\n",
            "    -0.11097349226474762,\n",
            "    -0.19737400114536283,\n",
            "    0.35520777106285095,\n",
            "    -0.18336014449596405,\n",
            "    -0.786582887172699,\n",
            "    -0.2565726637840271,\n",
            "    -0.01972346194088459,\n",
            "    -0.09610459953546524,\n",
            "    0.20356544852256775,\n",
            "    -0.487062007188797,\n",
            "    -0.40174365043640137,\n",
            "    -0.7093129754066467,\n",
            "    -0.4545163214206696,\n",
            "    0.1722759306430817,\n",
            "    0.2403823584318161,\n",
            "    0.2748434841632843,\n",
            "    0.02749608084559441,\n",
            "    -1.1616095304489136,\n",
            "    -0.15132994949817655,\n",
            "    0.06942489743232727,\n",
            "    -0.5277103781700134,\n",
            "    0.03605460748076439,\n",
            "    1.1370713710784912,\n",
            "    0.2736068665981293,\n",
            "    0.03319139778614044,\n",
            "    0.372100293636322,\n",
            "    0.41899389028549194,\n",
            "    -0.14986813068389893,\n",
            "    0.4538348615169525,\n",
            "    -0.6862925887107849,\n",
            "    -0.2221541404724121,\n",
            "    0.08638593554496765,\n",
            "    -0.2915861904621124,\n",
            "    -0.002146697137504816,\n",
            "    0.09016706794500352,\n",
            "    -0.03455799072980881,\n",
            "    -0.087455153465271,\n",
            "    -0.09948669373989104,\n",
            "    0.131329283118248,\n",
            "    0.09507313370704652,\n",
            "    -0.4084690809249878,\n",
            "    -0.6975424289703369,\n",
            "    0.2079545110464096,\n",
            "    -0.5201100707054138,\n",
            "    0.45888572931289673,\n",
            "    0.23661719262599945,\n",
            "    0.3797740042209625,\n",
            "    -0.2363605499267578,\n",
            "    0.006425653584301472,\n",
            "    -0.5672540664672852,\n",
            "    0.27043774724006653,\n",
            "    0.07577212154865265,\n",
            "    -0.16010691225528717,\n",
            "    -0.36607837677001953,\n",
            "    -0.2554885149002075,\n",
            "    -0.2149696797132492,\n",
            "    -0.11009839922189713,\n",
            "    -0.3039529323577881,\n",
            "    -0.13436418771743774,\n",
            "    0.2862454056739807,\n",
            "    0.02689671702682972,\n",
            "    -0.4440048635005951,\n",
            "    -0.2762129008769989,\n",
            "    -0.05281522497534752,\n",
            "    -0.558276891708374,\n",
            "    0.1537194699048996,\n",
            "    0.2574975788593292,\n",
            "    0.6305357813835144,\n",
            "    0.15988501906394958,\n",
            "    0.20008231699466705,\n",
            "    -0.17161357402801514,\n",
            "    -0.4939902424812317,\n",
            "    0.021226154640316963,\n",
            "    0.44904693961143494,\n",
            "    0.15301577746868134,\n",
            "    0.029067642986774445,\n",
            "    -0.6886757612228394,\n",
            "    0.300845205783844,\n",
            "    -0.45541155338287354,\n",
            "    0.4716585576534271,\n",
            "    -0.10058198869228364,\n",
            "    0.016761822625994682,\n",
            "    -0.0027126502245664597,\n",
            "    -0.03721379116177559,\n",
            "    -0.44566479325294495,\n",
            "    -0.10916709899902344,\n",
            "    0.20557962357997897,\n",
            "    -0.3436678349971771,\n",
            "    -0.32144269347190857,\n",
            "    -0.4753420352935791,\n",
            "    0.043338265269994736,\n",
            "    0.2244485467672348,\n",
            "    0.04949651658535004,\n",
            "    -0.02005253359675407,\n",
            "    0.2942441999912262,\n",
            "    -0.1085321679711342,\n",
            "    -0.031205791980028152,\n",
            "    -0.06596267968416214,\n",
            "    -0.4251213967800141,\n",
            "    -1.041051983833313,\n",
            "    0.010507838800549507,\n",
            "    -0.4679411053657532,\n",
            "    -0.6458203792572021,\n",
            "    -0.28816595673561096,\n",
            "    -0.110383078455925,\n",
            "    -0.185702383518219,\n",
            "    -0.27754780650138855,\n",
            "    -0.4430343210697174,\n",
            "    0.306908518075943,\n",
            "    0.042309436947107315,\n",
            "    0.1726246029138565,\n",
            "    -0.18220682442188263,\n",
            "    0.4507127106189728,\n",
            "    0.5076602697372437,\n",
            "    -0.45577672123909,\n",
            "    0.28492245078086853,\n",
            "    -0.4570762515068054,\n",
            "    0.5166962146759033,\n",
            "    -0.04786607623100281,\n",
            "    0.05665845796465874,\n",
            "    -0.033807046711444855,\n",
            "    0.4275812804698944,\n",
            "    -0.1285805702209473,\n",
            "    0.4344591796398163,\n",
            "    -0.035491522401571274,\n",
            "    0.12476542592048644,\n",
            "    -0.47778546810150146,\n",
            "    0.3086482286453247,\n",
            "    0.18651258945465088,\n",
            "    -0.8947010636329651,\n",
            "    -0.5961058735847473,\n",
            "    0.6119589805603027,\n",
            "    -0.16717807948589325,\n",
            "    -0.12753191590309143,\n",
            "    0.254332572221756,\n",
            "    -0.005285005550831556,\n",
            "    0.056970905512571335,\n",
            "    -0.3891613185405731,\n",
            "    -0.00776509614661336,\n",
            "    -0.09870731830596924,\n",
            "    0.2166328728199005,\n",
            "    -0.16209276020526886,\n",
            "    0.1430971920490265,\n",
            "    0.4908454120159149,\n",
            "    -0.02753874659538269,\n",
            "    0.835614800453186,\n",
            "    0.3810829222202301,\n",
            "    -0.2927592396736145,\n",
            "    0.4942202866077423,\n",
            "    0.2738140821456909,\n",
            "    0.03468888998031616,\n",
            "    0.196098193526268,\n",
            "    0.5165999531745911,\n",
            "    0.1977001130580902,\n",
            "    -0.17444807291030884,\n",
            "    -0.14780981838703156,\n",
            "    0.4835858941078186,\n",
            "    -0.129347562789917,\n",
            "    -0.5197362899780273,\n",
            "    -0.4809201657772064,\n",
            "    0.46971943974494934,\n",
            "    0.5247111320495605,\n",
            "    -0.08391186594963074,\n",
            "    -0.004678150173276663,\n",
            "    -0.026035575196146965,\n",
            "    0.3770067095756531,\n",
            "    0.41274526715278625,\n",
            "    0.06410511583089828,\n",
            "    -0.03599764034152031,\n",
            "    0.41465887427330017,\n",
            "    -0.300944060087204,\n",
            "    -0.397895872592926,\n",
            "    -0.5302183628082275,\n",
            "    -0.5196256041526794,\n",
            "    -0.12224018573760986,\n",
            "    -0.2276318073272705,\n",
            "    0.3460147976875305,\n",
            "    -0.26955029368400574,\n",
            "    0.1327313631772995,\n",
            "    -0.39525267481803894,\n",
            "    0.06624143570661545,\n",
            "    0.09462122619152068,\n",
            "    0.08858894556760788,\n",
            "    0.25753703713417053,\n",
            "    0.20974865555763245,\n",
            "    -0.2300511747598648,\n",
            "    -0.5898211598396301,\n",
            "    0.0951416790485382,\n",
            "    -0.5494322776794434,\n",
            "    0.16234467923641205,\n",
            "    -0.6152015328407288,\n",
            "    -0.30295035243034363,\n",
            "    0.46229079365730286,\n",
            "    0.3030545711517334,\n",
            "    -0.39610621333122253,\n",
            "    -0.6167346239089966,\n",
            "    0.07520031183958054,\n",
            "    -0.05536758527159691,\n",
            "    0.12841881811618805,\n",
            "    0.004809315782040358,\n",
            "    0.058824509382247925,\n",
            "    0.9788352847099304,\n",
            "    -0.4351204931735992,\n",
            "    0.637241542339325,\n",
            "    0.098518505692482,\n",
            "    -0.3435225188732147,\n",
            "    0.09211381524801254,\n",
            "    -0.3736139237880707,\n",
            "    0.014728421345353128,\n",
            "    -0.2055789828300476,\n",
            "    -0.1043248102068901,\n",
            "    0.3970884084701538,\n",
            "    -0.035413071513175964,\n",
            "    0.2968791723251343,\n",
            "    0.023488078266382217,\n",
            "    0.2218514382839203,\n",
            "    0.060057383030653,\n",
            "    -0.14773663878440857,\n",
            "    -0.07563778758049011,\n",
            "    -0.08797638863325119,\n",
            "    -0.028420040383934975,\n",
            "    -0.013591645285487177,\n",
            "    0.268489271402359,\n",
            "    0.4218108057975769,\n",
            "    -0.4521673619747162,\n",
            "    0.35130828619003296,\n",
            "    -0.08462520688772202,\n",
            "    0.20833010971546173,\n",
            "    -0.17099077999591827,\n",
            "    0.15960295498371124,\n",
            "    -0.7183049917221069,\n",
            "    0.20429521799087524,\n",
            "    -0.3634585440158844,\n",
            "    0.06277910619974136,\n",
            "    0.19862353801727295,\n",
            "    0.4935552477836609,\n",
            "    0.3401983976364136,\n",
            "    -0.30869540572166443,\n",
            "    0.06021052226424217,\n",
            "    -0.10101275891065598,\n",
            "    -0.3358795940876007,\n",
            "    -0.5933331847190857,\n",
            "    0.27200305461883545,\n",
            "    0.4882520735263825,\n",
            "    0.4446342885494232,\n",
            "    0.03825796768069267,\n",
            "    0.33544811606407166,\n",
            "    -0.568824291229248,\n",
            "    0.3816803991794586,\n",
            "    0.050546467304229736,\n",
            "    -0.5068250894546509,\n",
            "    0.030180344358086583,\n",
            "    -0.2955303490161896,\n",
            "    0.40841349959373474,\n",
            "    0.32753846049308777,\n",
            "    0.3025015592575073,\n",
            "    0.4482862651348114,\n",
            "    0.2732160687446594,\n",
            "    -0.3072575330734253,\n",
            "    -0.3469483554363251,\n",
            "    -0.8999791145324707,\n",
            "    0.14887860417366028,\n",
            "    0.003412608988583088,\n",
            "    -0.3576561510562897,\n",
            "    -0.33053797483444214,\n",
            "    -0.5140463709831238,\n",
            "    0.030856361612677578,\n",
            "    0.04695577919483185,\n",
            "    0.2985442876815796,\n",
            "    -0.030040467157959935,\n",
            "    -0.10855822265148164,\n",
            "    0.15749892592430115,\n",
            "    -0.20531699061393735,\n",
            "    0.4796631336212158,\n",
            "    -0.1622762382030487,\n",
            "    0.4480378627777099,\n",
            "    -0.5054653882980347,\n",
            "    -0.03203831613063812,\n",
            "    0.18630750477313995,\n",
            "    0.2279877662658691,\n",
            "    -0.4388808012008667,\n",
            "    0.6194000244140625,\n",
            "    0.03497034311294556,\n",
            "    -0.0001584396377438679,\n",
            "    -0.1450979858636856,\n",
            "    -0.49294039607048035,\n",
            "    -0.0198527704924345,\n",
            "    0.1445043683052063,\n",
            "    -0.11215173453092576,\n",
            "    -0.048628609627485275,\n",
            "    -0.1295158565044403,\n",
            "    -1.0196235179901123\n",
            "  ]\n",
            "}\n"
          ]
        }
      ],
      "source": [
        "print(json.dumps(client.json().get('bikes:010'), indent=2)) "
      ]
    },
    {
      "attachments": {},
      "cell_type": "markdown",
      "metadata": {},
      "source": [
        "When storing a vector embedding as part of a JSON datatype, the embedding is stored as a JSON array, in our case, under the field `description_embeddings` as shown."
      ]
    },
    {
      "attachments": {},
      "cell_type": "markdown",
      "metadata": {
        "id": "RctF2ngSQ5wV"
      },
      "source": [
        "### Making the bikes collection searchable\n",
        "\n",
        "Redis Stack provides a powerful search engine ([RediSearch](https://redis.io/docs/stack/search/)) that introduces [commands](https://redis.io/docs/stack/search/commands/) to create and maintain search indices for both collections of HASHES and [JSON](https://redis.io/docs/stack/search/indexing_json/) documents.\n",
        "\n",
        "To create a search index for the bikes collection, we'll use the [`FT.CREATE`](https://redis.io/commands/ft.create/) command:\n",
        "\n",
        "```\n",
        "1️⃣ FT.CREATE idx:bikes_vss ON JSON \n",
        "2️⃣  PREFIX 1 bikes: SCORE 1.0 \n",
        "3️⃣  SCHEMA \n",
        "4️⃣    $.model TEXT WEIGHT 1.0 NOSTEM \n",
        "5️⃣    $.brand TEXT WEIGHT 1.0 NOSTEM \n",
        "6️⃣    $.price NUMERIC \n",
        "7️⃣    $.type TAG SEPARATOR \",\" \n",
        "8️⃣    $.description AS description TEXT WEIGHT 1.0 \n",
        "9️⃣    $.description_embeddings AS vector VECTOR FLAT 6 TYPE FLOAT32 DIM 768 DISTANCE_METRIC COSINE\n",
        "```\n",
        "\n",
        "There is a lot to unpack here; let's take it from the top:\n",
        "\n",
        "- 1️⃣ We start by specifying the name of the index; `idx:bikes` indexing keys of type `JSON`.\n",
        "- 2️⃣ The keys being indexed are found using the `bikes:` key prefix.\n",
        "- 3️⃣ The `SCHEMA` keyword marks the beginning of the schema field definitions.\n",
        "- 4️⃣ Declares that field in the JSON document at the JSONPath `$.model` will be indexed as a `TEXT` field, allowing full-text search queries (disabling stemming).\n",
        "- 5️⃣ The `$.brand` field will also be treated as a `TEXT` schema field.\n",
        "- 6️⃣ The `$.price` field will be indexed as a `NUMERIC` allowing numeric range queries.\n",
        "- 7️⃣ The `$.type` field will be indexed as a `TAG` field. Tag fields allow exact-match queries, and are suitable for categorical values.\n",
        "- 8️⃣ The `$.description` field will also be indexed as a `TEXT` field.\n",
        "- 9️⃣ Finally, the vector embeddings in `$.description_embeddings` are indexed as a `VECTOR` field and assigned to the alias `vector`. \n",
        "  \n",
        "Let's break down the `VECTOR` schema field definition to better understand the inner workings of Vector Similarity in Redis:\n",
        "\n",
        "* `FLAT`: Specifies the indexing method, which can be `FLAT` or `HNSW`. FLAT (brute-force indexing) provides exact results but at a higher computational cost, while HNSW (Hierarchical Navigable Small World) is a more efficient method that provides approximate results with lower computational overhead.\n",
        "* `TYPE`: Set to `FLOAT32`. Current supported types are `FLOAT32` and `FLOAT64`.\n",
        "* `DIM`: The length or dimension of our embeddings, which we determined previosly to be `768`.\n",
        "* `DISTANCE_METRIC`: One of `L2`, `IP`, `COSINE`. \n",
        "  - `L2` stands for \"Euclidean distance\"; a straight-line distance between the vectors. Preferred when the absolute differences, including magnitude, matter most.\n",
        "  - `IP` stands for \"Inner Product\"; IP measures the projection of one vector onto another. It emphasizes the angle between vectors rather than their absolute positions in the vector space.\n",
        "  - `COSINE` stands for \"Cosine Similarity\"; a normalized form of inner product. This metric measures only the angle between two vectors, making it magnitude-independent.  \n",
        "  - For our querying purposes, the direction of the vectors carry more meaning (indicating semantic similarity), and the magnitude is largely influenced by the length of the documents, therefore `COSINE` similarity is chosen. Also, our chosen embedding model is fine-tuned for Cosine Similarity."
      ]
    },
    {
      "attachments": {},
      "cell_type": "markdown",
      "metadata": {},
      "source": [
        "The Python code below creates the Redis Search Index for the bikes collection equivalent to the previous raw `FT.CREATE` command:"
      ]
    },
    {
      "cell_type": "code",
      "execution_count": 20,
      "metadata": {
        "id": "-5i08gIFOugP"
      },
      "outputs": [
        {
          "name": "stdout",
          "output_type": "stream",
          "text": [
            "Index already exists!\n"
          ]
        }
      ],
      "source": [
        "from redis.commands.search.field import TagField, TextField, NumericField, VectorField\n",
        "from redis.commands.search.indexDefinition import IndexDefinition, IndexType\n",
        "from redis.commands.search.query import Query\n",
        "\n",
        "INDEX_NAME = 'idx:bikes_vss'\n",
        "DOC_PREFIX = 'bikes:'\n",
        "\n",
        "try:\n",
        "    # check to see if index exists\n",
        "    client.ft(INDEX_NAME).info()\n",
        "    print('Index already exists!')\n",
        "except:\n",
        "    # schema\n",
        "    schema = (\n",
        "        TextField('$.model', no_stem=True, as_name='model'),\n",
        "        TextField('$.brand', no_stem=True, as_name='brand'),\n",
        "        NumericField('$.price', as_name='price'),\n",
        "        TagField('$.type', as_name='type'),\n",
        "        TextField('$.description', as_name='description'),\n",
        "        VectorField('$.description_embeddings',\n",
        "            'FLAT', {\n",
        "                'TYPE': 'FLOAT32',\n",
        "                'DIM': VECTOR_DIMENSION,\n",
        "                'DISTANCE_METRIC': 'COSINE',\n",
        "            },  as_name='vector'\n",
        "        ),\n",
        "    )\n",
        "\n",
        "    # index Definition\n",
        "    definition = IndexDefinition(prefix=[DOC_PREFIX], index_type=IndexType.JSON)\n",
        "\n",
        "    # create Index\n",
        "    client.ft(INDEX_NAME).create_index(fields=schema, definition=definition)"
      ]
    },
    {
      "attachments": {},
      "cell_type": "markdown",
      "metadata": {
        "id": "ubBHtW_TRBmW"
      },
      "source": [
        "#### Check the state of the index\n",
        "\n",
        "After the `FT.CREATE` creates the index, the indexing process is automatically started in the background. In the blink of an eye, our 11 JSON documents should be indexed and ready to be searched. To corroborate that, we use the [`FT.INFO`](https://redis.io/commands/ft.info/) command to check some information and statistics on the index. Of particular interest are the number of documents successfully indexed, and the number of failures:  "
      ]
    },
    {
      "cell_type": "code",
      "execution_count": 21,
      "metadata": {
        "colab": {
          "base_uri": "https://localhost:8080/"
        },
        "id": "PN80EZohP--J",
        "outputId": "f4b2dedf-e285-4041-c77d-e78939a806bb"
      },
      "outputs": [
        {
          "name": "stdout",
          "output_type": "stream",
          "text": [
            "11 documents (100 percent) indexed with 0 failures in 51.10 milliseconds\n"
          ]
        }
      ],
      "source": [
        "info = client.ft(INDEX_NAME).info()\n",
        "\n",
        "num_docs = info['num_docs']\n",
        "indexing_failures = info['hash_indexing_failures']\n",
        "total_indexing_time = info['total_indexing_time']\n",
        "percent_indexed = int(info['percent_indexed']) * 100\n",
        "\n",
        "\n",
        "print(f\"{num_docs} documents ({percent_indexed} percent) indexed with {indexing_failures} failures in {float(total_indexing_time):.2f} milliseconds\")"
      ]
    },
    {
      "attachments": {},
      "cell_type": "markdown",
      "metadata": {},
      "source": [
        "### Structured Data Searches with Redis\n",
        "\n",
        "The index `idx:bikes_vss` indexes the structured fields of our JSON documents `model`, `brand`, `price`, and `type`. It also indexes the unstructured free-form text `description` and the generated embeddings in `description_embeddings`. Before we dive deeper into Vector Similarity Search, we need to understand the basics of querying a Redis index. The Redis command of interest is [`FT.SEARCH`](https://redis.io/commands/ft.search/). Like a SQL select statement, an `FT.SEARCH` invocation can be as simple or as complex as needed. \n",
        "\n",
        "Let's try simple queries that give enough context to complete our VSS examples. For example, to retrieve all bikes where the `brand` is `Peaknetic`, we can use the following command:\n",
        "\n",
        "```\n",
        "FT.SEARCH idx:bikes_vss '@brand:Peaknetic'\n",
        "```\n",
        "\n",
        "The command will return all matching documents. With the inclusion of the vector embeddings, that's a little too verbose. If we wanted to only return specific fields from our JSON documents, for example, the document `id`, the `brand`, `model` and `price`, we could use:\n",
        "\n",
        "```\n",
        "FT.SEARCH idx:bikes_vss '@brand:Peaknetic' RETURN 4 id, brand, model, price\n",
        "```\n",
        "\n",
        "In the query, we are searching against a schema field of type `TEXT`. The equivalent Python code is:"
      ]
    },
    {
      "cell_type": "code",
      "execution_count": 22,
      "metadata": {},
      "outputs": [
        {
          "data": {
            "text/plain": [
              "[Document {'id': 'bikes:008', 'payload': None, 'brand': 'Peaknetic', 'model': 'Soothe Electric bike', 'price': '1950'},\n",
              " Document {'id': 'bikes:009', 'payload': None, 'brand': 'Peaknetic', 'model': 'Secto', 'price': '430'}]"
            ]
          },
          "execution_count": 22,
          "metadata": {},
          "output_type": "execute_result"
        }
      ],
      "source": [
        "query = (\n",
        "    Query('@brand:Peaknetic').return_fields('id', 'brand', 'model', 'price')\n",
        ")\n",
        "client.ft(INDEX_NAME).search(query).docs"
      ]
    },
    {
      "attachments": {},
      "cell_type": "markdown",
      "metadata": {},
      "source": [
        "Let's say we only wanted bikes under `$1000`. We can add a numeric range clause to our query since the `price` field is indexed as `NUMERIC`:"
      ]
    },
    {
      "cell_type": "code",
      "execution_count": 23,
      "metadata": {},
      "outputs": [
        {
          "data": {
            "text/plain": [
              "[Document {'id': 'bikes:009', 'payload': None, 'brand': 'Peaknetic', 'model': 'Secto', 'price': '430'}]"
            ]
          },
          "execution_count": 23,
          "metadata": {},
          "output_type": "execute_result"
        }
      ],
      "source": [
        "query = (\n",
        "    Query('@brand:Peaknetic @price:[0 1000]').return_fields('id', 'brand', 'model', 'price')\n",
        ")\n",
        "client.ft(INDEX_NAME).search(query).docs"
      ]
    },
    {
      "attachments": {},
      "cell_type": "markdown",
      "metadata": {
        "id": "Sf6KLjOqRJ07"
      },
      "source": [
        "### Semantic Searching with Vector Similarity Search\n",
        "\n",
        "Now that the bikes collection is stored and properly indexed in Redis, we want to query them using short query prompts. Let's put our queries in a list so we can execute them in bulk:"
      ]
    },
    {
      "cell_type": "code",
      "execution_count": 24,
      "metadata": {
        "id": "MU3rPCCIOfNc"
      },
      "outputs": [],
      "source": [
        "queries = [\n",
        "    'Bike for small kids',\n",
        "    'Best Mountain bikes for kids',\n",
        "    'Cheap Mountain bike for kids',\n",
        "    'Female specific mountain bike',\n",
        "    'Road bike for beginners',\n",
        "    'Commuter bike for people over 60',\n",
        "    'Comfortable commuter bike',\n",
        "    'Good bike for college students',\n",
        "    'Mountain bike for beginners',\n",
        "    'Vintage bike',\n",
        "    'Comfortable city bike'\n",
        "]"
      ]
    },
    {
      "attachments": {},
      "cell_type": "markdown",
      "metadata": {},
      "source": [
        "We need to encode the query prompts to query the database using VSS. Just like we did with the descriptions of the bikes, we'll use the SentenceTransformers model to encode the queries:"
      ]
    },
    {
      "cell_type": "code",
      "execution_count": 25,
      "metadata": {
        "colab": {
          "base_uri": "https://localhost:8080/"
        },
        "id": "HQlt6HGgUQut",
        "outputId": "b723809d-a9bd-4eb1-94e2-b786bbb9b039"
      },
      "outputs": [
        {
          "data": {
            "text/plain": [
              "11"
            ]
          },
          "execution_count": 25,
          "metadata": {},
          "output_type": "execute_result"
        }
      ],
      "source": [
        "encoded_queries = embedder.encode(queries)\n",
        "len(encoded_queries)"
      ]
    },
    {
      "attachments": {},
      "cell_type": "markdown",
      "metadata": {
        "id": "eOLqqTBERO-G"
      },
      "source": [
        "#### Constructing a \"Pure KNN\" VSS Query\n",
        "\n",
        "We'll start with a K-nearest neighbors (KNN) query. KNN is a foundational algorithm used in vector similarity search, where the goal is to find the most similar items to a given query item. Using the chosen distance metric, the KNN algorithm calculates the distance between the query vector and each vector in the database. It then returns the 'K' items with the smallest distances to the query vector. These are considered to be the most similar items.\n",
        "\n",
        "The syntax for vector similarity KNN queries is `(*)=>[vector_similarity_query>]` where the `(*)` (the `*` meaning all) is the filter query for the search engine. That way, one can reduce the search space by filtering the collection on which the KNN algorithm operates. \n",
        "\n",
        "* The `$query_vector` represents the query parameter we'll use to pass the vectorized query prompt.\n",
        "* The results will be filtered by `vector_score`, which is a field derived from the name of the field indexed as a Vector by appending `_score` to it, in our case, `vector` (the alias for `$.description_embeddings`). \n",
        "* Our query will return the `vector_score`, the `id` of the match documents, and the `$.brand`, `$.model`, and `$.description`. \n",
        "* Finally, to utilize a vector similarity query with the `FT.SEARCH` command, we must specify DIALECT 2 or greater."
      ]
    },
    {
      "cell_type": "code",
      "execution_count": 26,
      "metadata": {},
      "outputs": [],
      "source": [
        "query = (\n",
        "    Query('(*)=>[KNN 3 @vector $query_vector AS vector_score]')\n",
        "     .sort_by('vector_score')\n",
        "     .return_fields('vector_score', 'id', 'brand', 'model', 'description')\n",
        "     .dialect(2)\n",
        ")"
      ]
    },
    {
      "attachments": {},
      "cell_type": "markdown",
      "metadata": {},
      "source": [
        "We pass the vectorized query as `$query_vector` to the search function to execute the query. The following code shows an example of creating a NumPy array from a vectorized query prompt (`encoded_query`) as a single precision float array and converting it into a compact, byte-level representation that we can pass as a Redis parameter:\n",
        "\n",
        "```python .noeval\n",
        "client.ft(INDEX_NAME).search(query, { 'query_vector': np.array(encoded_query, dtype=np.float32).tobytes() }).docs\n",
        "````\n",
        "\n",
        "With the template for the query in place, we can use a bit of Python code to execute all query prompts in a loop, passing the vectorized query prompts. Notice that for each result we calculate the `vector_score` as `1 - doc.vector_score`, since we use cosine \"distance\" as the metric, the items with the smallest \"distance\" are closer and therefore more similar to our query. \n",
        "\n",
        "We will then loop over the matched documents and create a list of results that will help up make a lovely Pandas table to visualize the results:"
      ]
    },
    {
      "cell_type": "code",
      "execution_count": 27,
      "metadata": {},
      "outputs": [],
      "source": [
        "from IPython.display import display, HTML\n",
        "\n",
        "def create_query_table(query, queries, encoded_queries, extra_params = {}):\n",
        "    results_list = []\n",
        "    for i, encoded_query in enumerate(encoded_queries):\n",
        "        result_docs = client.ft(INDEX_NAME).search(query, { 'query_vector': np.array(encoded_query, dtype=np.float32).tobytes() } | extra_params).docs\n",
        "        for doc in result_docs:\n",
        "            vector_score = round(1 - float(doc.vector_score), 2)\n",
        "            results_list.append({\n",
        "                'query': queries[i], \n",
        "                'score': vector_score, \n",
        "                'id': doc.id,\n",
        "                'brand': doc.brand,\n",
        "                'model': doc.model,\n",
        "                'description': doc.description\n",
        "            })\n",
        "\n",
        "    # Pretty-print the table\n",
        "    queries_table = pd.DataFrame(results_list)\n",
        "    queries_table.sort_values(by=['query', 'score'], ascending=[True, False], inplace=True)\n",
        "    queries_table['query'] = queries_table.groupby('query')['query'].transform(lambda x: [x.iloc[0]] + ['']*(len(x)-1))\n",
        "    queries_table['description'] = queries_table['description'].apply(lambda x: (x[:497] + '...') if len(x) > 500 else x)\n",
        "    html = queries_table.to_html(index=False)\n",
        "    display(HTML(html))"
      ]
    },
    {
      "attachments": {},
      "cell_type": "markdown",
      "metadata": {},
      "source": [
        "The query results show the individual queries' top 3 matches (our K parameter) along with the bike's id, brand, and model for each query. For example, for the query  \"Best Mountain bikes for kids\", the highest similarity score (`0.54`) and therefore the closest match was the 'Nord' brand 'Chook air 5' bike model, described as:\n",
        "\n",
        "> \"The Chook Air 5 gives kids aged six years and older a durable and uberlight mountain bike for their first experience on tracks and easy cruising through forests and fields. The lower top tube makes it easy to mount and dismount in any situation, giving your kids greater safety on the trails. The Chook Air 5 is the perfect intro to mountain biking.\"\n",
        "\n",
        "From the description, we gather that this bike is an excellent match for younger children, and the MS MARCO model-generated embeddings seem to have captured the semantics of the description accurately."
      ]
    },
    {
      "cell_type": "code",
      "execution_count": 28,
      "metadata": {},
      "outputs": [
        {
          "data": {
            "text/html": [
              "<table border=\"1\" class=\"dataframe\">\n",
              "  <thead>\n",
              "    <tr style=\"text-align: right;\">\n",
              "      <th>query</th>\n",
              "      <th>score</th>\n",
              "      <th>id</th>\n",
              "      <th>brand</th>\n",
              "      <th>model</th>\n",
              "      <th>description</th>\n",
              "    </tr>\n",
              "  </thead>\n",
              "  <tbody>\n",
              "    <tr>\n",
              "      <td>Best Mountain bikes for kids</td>\n",
              "      <td>0.54</td>\n",
              "      <td>bikes:003</td>\n",
              "      <td>Nord</td>\n",
              "      <td>Chook air 5</td>\n",
              "      <td>The Chook Air 5  gives kids aged six years and older a durable and uberlight mountain bike for their first experience on tracks and easy cruising through forests and fields. The lower  top tube makes it easy to mount and dismount in any situation, giving your kids greater safety on the trails. The Chook Air 5 is the perfect intro to mountain biking.</td>\n",
              "    </tr>\n",
              "    <tr>\n",
              "      <td></td>\n",
              "      <td>0.51</td>\n",
              "      <td>bikes:010</td>\n",
              "      <td>nHill</td>\n",
              "      <td>Summit</td>\n",
              "      <td>This budget mountain bike from nHill performs well both on bike paths and on the trail. The fork with 100mm of travel absorbs rough terrain. Fat Kenda Booster tires give you grip in corners and on wet trails. The Shimano Tourney drivetrain offered enough gears for finding a comfortable pace to ride uphill, and the Tektro hydraulic disc brakes break smoothly. Whether you want an affordable bike that you can take to work, but also take trail riding on the weekends or you’re just after a stable,...</td>\n",
              "    </tr>\n",
              "    <tr>\n",
              "      <td></td>\n",
              "      <td>0.46</td>\n",
              "      <td>bikes:001</td>\n",
              "      <td>Velorim</td>\n",
              "      <td>Jigger</td>\n",
              "      <td>Small and powerful, the Jigger is the best ride for the smallest of tikes! This is the tiniest kids’ pedal bike on the market available without a coaster brake, the Jigger is the vehicle of choice for the rare tenacious little rider raring to go. We say rare because this smokin’ little bike is not ideal for a nervous first-time rider, but it’s a true giddy up for a true speedster. The Jigger is a 12 inch lightweight kids bicycle and it will meet your little one’s need for speed. It’s a single...</td>\n",
              "    </tr>\n",
              "    <tr>\n",
              "      <td>Bike for small kids</td>\n",
              "      <td>0.52</td>\n",
              "      <td>bikes:001</td>\n",
              "      <td>Velorim</td>\n",
              "      <td>Jigger</td>\n",
              "      <td>Small and powerful, the Jigger is the best ride for the smallest of tikes! This is the tiniest kids’ pedal bike on the market available without a coaster brake, the Jigger is the vehicle of choice for the rare tenacious little rider raring to go. We say rare because this smokin’ little bike is not ideal for a nervous first-time rider, but it’s a true giddy up for a true speedster. The Jigger is a 12 inch lightweight kids bicycle and it will meet your little one’s need for speed. It’s a single...</td>\n",
              "    </tr>\n",
              "    <tr>\n",
              "      <td></td>\n",
              "      <td>0.45</td>\n",
              "      <td>bikes:007</td>\n",
              "      <td>ScramBikes</td>\n",
              "      <td>WattBike</td>\n",
              "      <td>The WattBike is the best e-bike for people who still feel young at heart. It has a  Bafang 500 watt geared hub motor that can reach 20 miles per hour on both steep inclines and city streets. The lithium-ion battery, which gets nearly 40 miles per charge, has a lightweight form factor, making it easier for seniors to use. It comes fully assembled (no convoluted instructions!) and includes a sturdy helmet at no cost. The Plush saddle softens over time with use. The included Seatpost, however, i...</td>\n",
              "    </tr>\n",
              "    <tr>\n",
              "      <td></td>\n",
              "      <td>0.41</td>\n",
              "      <td>bikes:003</td>\n",
              "      <td>Nord</td>\n",
              "      <td>Chook air 5</td>\n",
              "      <td>The Chook Air 5  gives kids aged six years and older a durable and uberlight mountain bike for their first experience on tracks and easy cruising through forests and fields. The lower  top tube makes it easy to mount and dismount in any situation, giving your kids greater safety on the trails. The Chook Air 5 is the perfect intro to mountain biking.</td>\n",
              "    </tr>\n",
              "    <tr>\n",
              "      <td>Cheap Mountain bike for kids</td>\n",
              "      <td>0.49</td>\n",
              "      <td>bikes:003</td>\n",
              "      <td>Nord</td>\n",
              "      <td>Chook air 5</td>\n",
              "      <td>The Chook Air 5  gives kids aged six years and older a durable and uberlight mountain bike for their first experience on tracks and easy cruising through forests and fields. The lower  top tube makes it easy to mount and dismount in any situation, giving your kids greater safety on the trails. The Chook Air 5 is the perfect intro to mountain biking.</td>\n",
              "    </tr>\n",
              "    <tr>\n",
              "      <td></td>\n",
              "      <td>0.45</td>\n",
              "      <td>bikes:010</td>\n",
              "      <td>nHill</td>\n",
              "      <td>Summit</td>\n",
              "      <td>This budget mountain bike from nHill performs well both on bike paths and on the trail. The fork with 100mm of travel absorbs rough terrain. Fat Kenda Booster tires give you grip in corners and on wet trails. The Shimano Tourney drivetrain offered enough gears for finding a comfortable pace to ride uphill, and the Tektro hydraulic disc brakes break smoothly. Whether you want an affordable bike that you can take to work, but also take trail riding on the weekends or you’re just after a stable,...</td>\n",
              "    </tr>\n",
              "    <tr>\n",
              "      <td></td>\n",
              "      <td>0.39</td>\n",
              "      <td>bikes:001</td>\n",
              "      <td>Velorim</td>\n",
              "      <td>Jigger</td>\n",
              "      <td>Small and powerful, the Jigger is the best ride for the smallest of tikes! This is the tiniest kids’ pedal bike on the market available without a coaster brake, the Jigger is the vehicle of choice for the rare tenacious little rider raring to go. We say rare because this smokin’ little bike is not ideal for a nervous first-time rider, but it’s a true giddy up for a true speedster. The Jigger is a 12 inch lightweight kids bicycle and it will meet your little one’s need for speed. It’s a single...</td>\n",
              "    </tr>\n",
              "    <tr>\n",
              "      <td>Comfortable city bike</td>\n",
              "      <td>0.45</td>\n",
              "      <td>bikes:007</td>\n",
              "      <td>ScramBikes</td>\n",
              "      <td>WattBike</td>\n",
              "      <td>The WattBike is the best e-bike for people who still feel young at heart. It has a  Bafang 500 watt geared hub motor that can reach 20 miles per hour on both steep inclines and city streets. The lithium-ion battery, which gets nearly 40 miles per charge, has a lightweight form factor, making it easier for seniors to use. It comes fully assembled (no convoluted instructions!) and includes a sturdy helmet at no cost. The Plush saddle softens over time with use. The included Seatpost, however, i...</td>\n",
              "    </tr>\n",
              "    <tr>\n",
              "      <td></td>\n",
              "      <td>0.44</td>\n",
              "      <td>bikes:006</td>\n",
              "      <td>Breakout</td>\n",
              "      <td>XBN 2.1 Alloy</td>\n",
              "      <td>The XBN 2.1 Alloy is our entry-level road bike – but that’s not to say that it’s a basic machine. With an internal weld aluminium frame, a full carbon fork, and the slick-shifting Claris gears from Shimano’s, this is a bike which doesn’t break the bank and delivers craved performance. The 6061 alloy frame is triple-butted which ensures a lighter weight and smoother ride. And it’s comfortable with dropped seat stays and the carbon fork. The carefully crafted 50-34 tooth chainset and 11-32 toot...</td>\n",
              "    </tr>\n",
              "    <tr>\n",
              "      <td></td>\n",
              "      <td>0.42</td>\n",
              "      <td>bikes:008</td>\n",
              "      <td>Peaknetic</td>\n",
              "      <td>Soothe Electric bike</td>\n",
              "      <td>The Soothe is an everyday electric bike, from the makers of Exercycle  bikes, that conveys style while you get around the city. The Soothe lives up to its name by keeping your posture upright and relaxed for the ride ahead, keeping those aches and pains from riding at bay. It includes a low-step frame , our memory foam seat, bump-resistant shocks and conveniently placed thumb throttle.</td>\n",
              "    </tr>\n",
              "    <tr>\n",
              "      <td>Comfortable commuter bike</td>\n",
              "      <td>0.47</td>\n",
              "      <td>bikes:008</td>\n",
              "      <td>Peaknetic</td>\n",
              "      <td>Soothe Electric bike</td>\n",
              "      <td>The Soothe is an everyday electric bike, from the makers of Exercycle  bikes, that conveys style while you get around the city. The Soothe lives up to its name by keeping your posture upright and relaxed for the ride ahead, keeping those aches and pains from riding at bay. It includes a low-step frame , our memory foam seat, bump-resistant shocks and conveniently placed thumb throttle.</td>\n",
              "    </tr>\n",
              "    <tr>\n",
              "      <td></td>\n",
              "      <td>0.47</td>\n",
              "      <td>bikes:007</td>\n",
              "      <td>ScramBikes</td>\n",
              "      <td>WattBike</td>\n",
              "      <td>The WattBike is the best e-bike for people who still feel young at heart. It has a  Bafang 500 watt geared hub motor that can reach 20 miles per hour on both steep inclines and city streets. The lithium-ion battery, which gets nearly 40 miles per charge, has a lightweight form factor, making it easier for seniors to use. It comes fully assembled (no convoluted instructions!) and includes a sturdy helmet at no cost. The Plush saddle softens over time with use. The included Seatpost, however, i...</td>\n",
              "    </tr>\n",
              "    <tr>\n",
              "      <td></td>\n",
              "      <td>0.41</td>\n",
              "      <td>bikes:006</td>\n",
              "      <td>Breakout</td>\n",
              "      <td>XBN 2.1 Alloy</td>\n",
              "      <td>The XBN 2.1 Alloy is our entry-level road bike – but that’s not to say that it’s a basic machine. With an internal weld aluminium frame, a full carbon fork, and the slick-shifting Claris gears from Shimano’s, this is a bike which doesn’t break the bank and delivers craved performance. The 6061 alloy frame is triple-butted which ensures a lighter weight and smoother ride. And it’s comfortable with dropped seat stays and the carbon fork. The carefully crafted 50-34 tooth chainset and 11-32 toot...</td>\n",
              "    </tr>\n",
              "    <tr>\n",
              "      <td>Commuter bike for people over 60</td>\n",
              "      <td>0.48</td>\n",
              "      <td>bikes:007</td>\n",
              "      <td>ScramBikes</td>\n",
              "      <td>WattBike</td>\n",
              "      <td>The WattBike is the best e-bike for people who still feel young at heart. It has a  Bafang 500 watt geared hub motor that can reach 20 miles per hour on both steep inclines and city streets. The lithium-ion battery, which gets nearly 40 miles per charge, has a lightweight form factor, making it easier for seniors to use. It comes fully assembled (no convoluted instructions!) and includes a sturdy helmet at no cost. The Plush saddle softens over time with use. The included Seatpost, however, i...</td>\n",
              "    </tr>\n",
              "    <tr>\n",
              "      <td></td>\n",
              "      <td>0.42</td>\n",
              "      <td>bikes:011</td>\n",
              "      <td>BikeShind</td>\n",
              "      <td>ThrillCycle</td>\n",
              "      <td>An artsy,  retro-inspired bicycle that’s as functional as it is pretty: The ThrillCycle steel frame offers a smooth ride. A 9-speed drivetrain has enough gears for coasting in the city, but we wouldn’t suggest taking it to the mountains. Fenders protect you from mud, and a rear basket lets you transport groceries, flowers and books. The ThrillCycle comes with a limited lifetime warranty, so this little guy will last you long past graduation.</td>\n",
              "    </tr>\n",
              "    <tr>\n",
              "      <td></td>\n",
              "      <td>0.37</td>\n",
              "      <td>bikes:006</td>\n",
              "      <td>Breakout</td>\n",
              "      <td>XBN 2.1 Alloy</td>\n",
              "      <td>The XBN 2.1 Alloy is our entry-level road bike – but that’s not to say that it’s a basic machine. With an internal weld aluminium frame, a full carbon fork, and the slick-shifting Claris gears from Shimano’s, this is a bike which doesn’t break the bank and delivers craved performance. The 6061 alloy frame is triple-butted which ensures a lighter weight and smoother ride. And it’s comfortable with dropped seat stays and the carbon fork. The carefully crafted 50-34 tooth chainset and 11-32 toot...</td>\n",
              "    </tr>\n",
              "    <tr>\n",
              "      <td>Female specific mountain bike</td>\n",
              "      <td>0.47</td>\n",
              "      <td>bikes:005</td>\n",
              "      <td>Noka Bikes</td>\n",
              "      <td>Kahuna</td>\n",
              "      <td>Whether you want to try your hand at XC racing or are looking for a lively trail bike that's just as inspiring on the climbs as it is over rougher ground, the Wilder is one heck of a bike built specifically for short women. Both the frames and components have been tweaked to include a women’s saddle, different bars and unique colourway.</td>\n",
              "    </tr>\n",
              "    <tr>\n",
              "      <td></td>\n",
              "      <td>0.39</td>\n",
              "      <td>bikes:004</td>\n",
              "      <td>Eva</td>\n",
              "      <td>Eva 291</td>\n",
              "      <td>The sister company to Nord, Eva launched in 2005 as the first and only women-dedicated bicycle brand. Designed by women for women, allEva bikes are optimized for the feminine physique using analytics from a body metrics database. If you like 29ers, try the Eva 291. It’s a brand new bike for 2022.. This full-suspension, cross-country ride has been designed for velocity. The 291 has 100mm of front and rear travel, a superlight aluminum frame and fast-rolling 29-inch wheels. Yippee!</td>\n",
              "    </tr>\n",
              "    <tr>\n",
              "      <td></td>\n",
              "      <td>0.32</td>\n",
              "      <td>bikes:010</td>\n",
              "      <td>nHill</td>\n",
              "      <td>Summit</td>\n",
              "      <td>This budget mountain bike from nHill performs well both on bike paths and on the trail. The fork with 100mm of travel absorbs rough terrain. Fat Kenda Booster tires give you grip in corners and on wet trails. The Shimano Tourney drivetrain offered enough gears for finding a comfortable pace to ride uphill, and the Tektro hydraulic disc brakes break smoothly. Whether you want an affordable bike that you can take to work, but also take trail riding on the weekends or you’re just after a stable,...</td>\n",
              "    </tr>\n",
              "    <tr>\n",
              "      <td>Good bike for college students</td>\n",
              "      <td>0.47</td>\n",
              "      <td>bikes:007</td>\n",
              "      <td>ScramBikes</td>\n",
              "      <td>WattBike</td>\n",
              "      <td>The WattBike is the best e-bike for people who still feel young at heart. It has a  Bafang 500 watt geared hub motor that can reach 20 miles per hour on both steep inclines and city streets. The lithium-ion battery, which gets nearly 40 miles per charge, has a lightweight form factor, making it easier for seniors to use. It comes fully assembled (no convoluted instructions!) and includes a sturdy helmet at no cost. The Plush saddle softens over time with use. The included Seatpost, however, i...</td>\n",
              "    </tr>\n",
              "    <tr>\n",
              "      <td></td>\n",
              "      <td>0.43</td>\n",
              "      <td>bikes:006</td>\n",
              "      <td>Breakout</td>\n",
              "      <td>XBN 2.1 Alloy</td>\n",
              "      <td>The XBN 2.1 Alloy is our entry-level road bike – but that’s not to say that it’s a basic machine. With an internal weld aluminium frame, a full carbon fork, and the slick-shifting Claris gears from Shimano’s, this is a bike which doesn’t break the bank and delivers craved performance. The 6061 alloy frame is triple-butted which ensures a lighter weight and smoother ride. And it’s comfortable with dropped seat stays and the carbon fork. The carefully crafted 50-34 tooth chainset and 11-32 toot...</td>\n",
              "    </tr>\n",
              "    <tr>\n",
              "      <td></td>\n",
              "      <td>0.40</td>\n",
              "      <td>bikes:010</td>\n",
              "      <td>nHill</td>\n",
              "      <td>Summit</td>\n",
              "      <td>This budget mountain bike from nHill performs well both on bike paths and on the trail. The fork with 100mm of travel absorbs rough terrain. Fat Kenda Booster tires give you grip in corners and on wet trails. The Shimano Tourney drivetrain offered enough gears for finding a comfortable pace to ride uphill, and the Tektro hydraulic disc brakes break smoothly. Whether you want an affordable bike that you can take to work, but also take trail riding on the weekends or you’re just after a stable,...</td>\n",
              "    </tr>\n",
              "    <tr>\n",
              "      <td>Mountain bike for beginners</td>\n",
              "      <td>0.54</td>\n",
              "      <td>bikes:010</td>\n",
              "      <td>nHill</td>\n",
              "      <td>Summit</td>\n",
              "      <td>This budget mountain bike from nHill performs well both on bike paths and on the trail. The fork with 100mm of travel absorbs rough terrain. Fat Kenda Booster tires give you grip in corners and on wet trails. The Shimano Tourney drivetrain offered enough gears for finding a comfortable pace to ride uphill, and the Tektro hydraulic disc brakes break smoothly. Whether you want an affordable bike that you can take to work, but also take trail riding on the weekends or you’re just after a stable,...</td>\n",
              "    </tr>\n",
              "    <tr>\n",
              "      <td></td>\n",
              "      <td>0.49</td>\n",
              "      <td>bikes:003</td>\n",
              "      <td>Nord</td>\n",
              "      <td>Chook air 5</td>\n",
              "      <td>The Chook Air 5  gives kids aged six years and older a durable and uberlight mountain bike for their first experience on tracks and easy cruising through forests and fields. The lower  top tube makes it easy to mount and dismount in any situation, giving your kids greater safety on the trails. The Chook Air 5 is the perfect intro to mountain biking.</td>\n",
              "    </tr>\n",
              "    <tr>\n",
              "      <td></td>\n",
              "      <td>0.42</td>\n",
              "      <td>bikes:008</td>\n",
              "      <td>Peaknetic</td>\n",
              "      <td>Soothe Electric bike</td>\n",
              "      <td>The Soothe is an everyday electric bike, from the makers of Exercycle  bikes, that conveys style while you get around the city. The Soothe lives up to its name by keeping your posture upright and relaxed for the ride ahead, keeping those aches and pains from riding at bay. It includes a low-step frame , our memory foam seat, bump-resistant shocks and conveniently placed thumb throttle.</td>\n",
              "    </tr>\n",
              "    <tr>\n",
              "      <td>Road bike for beginners</td>\n",
              "      <td>0.45</td>\n",
              "      <td>bikes:010</td>\n",
              "      <td>nHill</td>\n",
              "      <td>Summit</td>\n",
              "      <td>This budget mountain bike from nHill performs well both on bike paths and on the trail. The fork with 100mm of travel absorbs rough terrain. Fat Kenda Booster tires give you grip in corners and on wet trails. The Shimano Tourney drivetrain offered enough gears for finding a comfortable pace to ride uphill, and the Tektro hydraulic disc brakes break smoothly. Whether you want an affordable bike that you can take to work, but also take trail riding on the weekends or you’re just after a stable,...</td>\n",
              "    </tr>\n",
              "    <tr>\n",
              "      <td></td>\n",
              "      <td>0.44</td>\n",
              "      <td>bikes:008</td>\n",
              "      <td>Peaknetic</td>\n",
              "      <td>Soothe Electric bike</td>\n",
              "      <td>The Soothe is an everyday electric bike, from the makers of Exercycle  bikes, that conveys style while you get around the city. The Soothe lives up to its name by keeping your posture upright and relaxed for the ride ahead, keeping those aches and pains from riding at bay. It includes a low-step frame , our memory foam seat, bump-resistant shocks and conveniently placed thumb throttle.</td>\n",
              "    </tr>\n",
              "    <tr>\n",
              "      <td></td>\n",
              "      <td>0.44</td>\n",
              "      <td>bikes:011</td>\n",
              "      <td>BikeShind</td>\n",
              "      <td>ThrillCycle</td>\n",
              "      <td>An artsy,  retro-inspired bicycle that’s as functional as it is pretty: The ThrillCycle steel frame offers a smooth ride. A 9-speed drivetrain has enough gears for coasting in the city, but we wouldn’t suggest taking it to the mountains. Fenders protect you from mud, and a rear basket lets you transport groceries, flowers and books. The ThrillCycle comes with a limited lifetime warranty, so this little guy will last you long past graduation.</td>\n",
              "    </tr>\n",
              "    <tr>\n",
              "      <td>Vintage bike</td>\n",
              "      <td>0.42</td>\n",
              "      <td>bikes:011</td>\n",
              "      <td>BikeShind</td>\n",
              "      <td>ThrillCycle</td>\n",
              "      <td>An artsy,  retro-inspired bicycle that’s as functional as it is pretty: The ThrillCycle steel frame offers a smooth ride. A 9-speed drivetrain has enough gears for coasting in the city, but we wouldn’t suggest taking it to the mountains. Fenders protect you from mud, and a rear basket lets you transport groceries, flowers and books. The ThrillCycle comes with a limited lifetime warranty, so this little guy will last you long past graduation.</td>\n",
              "    </tr>\n",
              "    <tr>\n",
              "      <td></td>\n",
              "      <td>0.41</td>\n",
              "      <td>bikes:007</td>\n",
              "      <td>ScramBikes</td>\n",
              "      <td>WattBike</td>\n",
              "      <td>The WattBike is the best e-bike for people who still feel young at heart. It has a  Bafang 500 watt geared hub motor that can reach 20 miles per hour on both steep inclines and city streets. The lithium-ion battery, which gets nearly 40 miles per charge, has a lightweight form factor, making it easier for seniors to use. It comes fully assembled (no convoluted instructions!) and includes a sturdy helmet at no cost. The Plush saddle softens over time with use. The included Seatpost, however, i...</td>\n",
              "    </tr>\n",
              "    <tr>\n",
              "      <td></td>\n",
              "      <td>0.35</td>\n",
              "      <td>bikes:006</td>\n",
              "      <td>Breakout</td>\n",
              "      <td>XBN 2.1 Alloy</td>\n",
              "      <td>The XBN 2.1 Alloy is our entry-level road bike – but that’s not to say that it’s a basic machine. With an internal weld aluminium frame, a full carbon fork, and the slick-shifting Claris gears from Shimano’s, this is a bike which doesn’t break the bank and delivers craved performance. The 6061 alloy frame is triple-butted which ensures a lighter weight and smoother ride. And it’s comfortable with dropped seat stays and the carbon fork. The carefully crafted 50-34 tooth chainset and 11-32 toot...</td>\n",
              "    </tr>\n",
              "  </tbody>\n",
              "</table>"
            ],
            "text/plain": [
              "<IPython.core.display.HTML object>"
            ]
          },
          "metadata": {},
          "output_type": "display_data"
        }
      ],
      "source": [
        "create_query_table(query, queries, encoded_queries)"
      ]
    },
    {
      "attachments": {},
      "cell_type": "markdown",
      "metadata": {},
      "source": [
        "Sometimes \"a picture is worth a thousand words\". Using the dimensionality reduction technique [t-SNE](https://en.wikipedia.org/wiki/T-distributed_stochastic_neighbor_embedding) we can create a 3-d representation of our description embeddings, as well as the query embeddings which shows how well the MS Marco Sentence Embeddings clustered our bicycle descriptions and we can visually judge a query's distance to a specific bike:\n",
        "\n",
        "![t-SNE 3-D Embeddings Visualization](https://raw.githubusercontent.com/bsbodden/redis_vss_getting_started/3ac967dfbdd84dad25ade620826c0e01ac0251ca/embeddings-tsne.png)"
      ]
    },
    {
      "attachments": {},
      "cell_type": "markdown",
      "metadata": {},
      "source": [
        "#### Hybrid Queries\n",
        "\n",
        "\"Pure KNN\" queries, as in the previous section, evaluate a query against the whole space of vectors in a data collection. The larger the collection, the more computationally expensive the nearest neighbors' search will be, but in the real world, unstructured data does not live in isolation, and users expecting rich search experiences need to be able to search via a combination of structured and unstructured data. \n",
        "\n",
        "For example, users might arrive at your search interface with a brand preference in mind for the bikes dataset. Redis VSS queries can use this information to pre-filter the search space using a \"primary filter query\". In the following query definition, we pre-filter using the `brand` to consider only `Peaknetic` brand bikes. Notice that, before our primary filter query was `(*)`, AKA everything, but now we can narrow the search space using `(@brand:Peaknetic)` before the KNN query:"
      ]
    },
    {
      "cell_type": "code",
      "execution_count": 29,
      "metadata": {},
      "outputs": [],
      "source": [
        "hybrid_query = (\n",
        "    Query('(@brand:Peaknetic)=>[KNN 3 @vector $query_vector AS vector_score]')\n",
        "     .sort_by('vector_score')\n",
        "     .return_fields('vector_score', 'id', 'brand', 'model', 'description')\n",
        "     .dialect(2)\n",
        ")"
      ]
    },
    {
      "attachments": {},
      "cell_type": "markdown",
      "metadata": {},
      "source": [
        "Filtering by the `Peaknetic` brand, for which there are 2 bikes in our collection, we can see the results returned for each of the query prompts. The query with the highest returned similarity score is \"Comfortable commuter bike\", followed by \"Road bike for beginners\". By filtering by brand, we fulfill the users' preferences and reduce the KNN search space by %80."
      ]
    },
    {
      "cell_type": "code",
      "execution_count": 30,
      "metadata": {},
      "outputs": [
        {
          "data": {
            "text/html": [
              "<table border=\"1\" class=\"dataframe\">\n",
              "  <thead>\n",
              "    <tr style=\"text-align: right;\">\n",
              "      <th>query</th>\n",
              "      <th>score</th>\n",
              "      <th>id</th>\n",
              "      <th>brand</th>\n",
              "      <th>model</th>\n",
              "      <th>description</th>\n",
              "    </tr>\n",
              "  </thead>\n",
              "  <tbody>\n",
              "    <tr>\n",
              "      <td>Best Mountain bikes for kids</td>\n",
              "      <td>0.30</td>\n",
              "      <td>bikes:008</td>\n",
              "      <td>Peaknetic</td>\n",
              "      <td>Soothe Electric bike</td>\n",
              "      <td>The Soothe is an everyday electric bike, from the makers of Exercycle  bikes, that conveys style while you get around the city. The Soothe lives up to its name by keeping your posture upright and relaxed for the ride ahead, keeping those aches and pains from riding at bay. It includes a low-step frame , our memory foam seat, bump-resistant shocks and conveniently placed thumb throttle.</td>\n",
              "    </tr>\n",
              "    <tr>\n",
              "      <td></td>\n",
              "      <td>0.23</td>\n",
              "      <td>bikes:009</td>\n",
              "      <td>Peaknetic</td>\n",
              "      <td>Secto</td>\n",
              "      <td>If you struggle with stiff fingers or a kinked neck or back after a few minutes on the road, this lightweight, aluminum bike alleviates those issues and allows you to enjoy the ride. From the ergonomic grips to the lumbar-supporting seat position, the Roll Low-Entry offers incredible comfort. The rear-inclined seat tube facilitates stability by allowing you to put a foot on the ground to balance at a stop, and the low step-over frame makes it accessible for all ability and mobility levels. Th...</td>\n",
              "    </tr>\n",
              "    <tr>\n",
              "      <td>Bike for small kids</td>\n",
              "      <td>0.37</td>\n",
              "      <td>bikes:008</td>\n",
              "      <td>Peaknetic</td>\n",
              "      <td>Soothe Electric bike</td>\n",
              "      <td>The Soothe is an everyday electric bike, from the makers of Exercycle  bikes, that conveys style while you get around the city. The Soothe lives up to its name by keeping your posture upright and relaxed for the ride ahead, keeping those aches and pains from riding at bay. It includes a low-step frame , our memory foam seat, bump-resistant shocks and conveniently placed thumb throttle.</td>\n",
              "    </tr>\n",
              "    <tr>\n",
              "      <td></td>\n",
              "      <td>0.25</td>\n",
              "      <td>bikes:009</td>\n",
              "      <td>Peaknetic</td>\n",
              "      <td>Secto</td>\n",
              "      <td>If you struggle with stiff fingers or a kinked neck or back after a few minutes on the road, this lightweight, aluminum bike alleviates those issues and allows you to enjoy the ride. From the ergonomic grips to the lumbar-supporting seat position, the Roll Low-Entry offers incredible comfort. The rear-inclined seat tube facilitates stability by allowing you to put a foot on the ground to balance at a stop, and the low step-over frame makes it accessible for all ability and mobility levels. Th...</td>\n",
              "    </tr>\n",
              "    <tr>\n",
              "      <td>Cheap Mountain bike for kids</td>\n",
              "      <td>0.21</td>\n",
              "      <td>bikes:008</td>\n",
              "      <td>Peaknetic</td>\n",
              "      <td>Soothe Electric bike</td>\n",
              "      <td>The Soothe is an everyday electric bike, from the makers of Exercycle  bikes, that conveys style while you get around the city. The Soothe lives up to its name by keeping your posture upright and relaxed for the ride ahead, keeping those aches and pains from riding at bay. It includes a low-step frame , our memory foam seat, bump-resistant shocks and conveniently placed thumb throttle.</td>\n",
              "    </tr>\n",
              "    <tr>\n",
              "      <td></td>\n",
              "      <td>0.12</td>\n",
              "      <td>bikes:009</td>\n",
              "      <td>Peaknetic</td>\n",
              "      <td>Secto</td>\n",
              "      <td>If you struggle with stiff fingers or a kinked neck or back after a few minutes on the road, this lightweight, aluminum bike alleviates those issues and allows you to enjoy the ride. From the ergonomic grips to the lumbar-supporting seat position, the Roll Low-Entry offers incredible comfort. The rear-inclined seat tube facilitates stability by allowing you to put a foot on the ground to balance at a stop, and the low step-over frame makes it accessible for all ability and mobility levels. Th...</td>\n",
              "    </tr>\n",
              "    <tr>\n",
              "      <td>Comfortable city bike</td>\n",
              "      <td>0.42</td>\n",
              "      <td>bikes:008</td>\n",
              "      <td>Peaknetic</td>\n",
              "      <td>Soothe Electric bike</td>\n",
              "      <td>The Soothe is an everyday electric bike, from the makers of Exercycle  bikes, that conveys style while you get around the city. The Soothe lives up to its name by keeping your posture upright and relaxed for the ride ahead, keeping those aches and pains from riding at bay. It includes a low-step frame , our memory foam seat, bump-resistant shocks and conveniently placed thumb throttle.</td>\n",
              "    </tr>\n",
              "    <tr>\n",
              "      <td></td>\n",
              "      <td>0.36</td>\n",
              "      <td>bikes:009</td>\n",
              "      <td>Peaknetic</td>\n",
              "      <td>Secto</td>\n",
              "      <td>If you struggle with stiff fingers or a kinked neck or back after a few minutes on the road, this lightweight, aluminum bike alleviates those issues and allows you to enjoy the ride. From the ergonomic grips to the lumbar-supporting seat position, the Roll Low-Entry offers incredible comfort. The rear-inclined seat tube facilitates stability by allowing you to put a foot on the ground to balance at a stop, and the low step-over frame makes it accessible for all ability and mobility levels. Th...</td>\n",
              "    </tr>\n",
              "    <tr>\n",
              "      <td>Comfortable commuter bike</td>\n",
              "      <td>0.47</td>\n",
              "      <td>bikes:008</td>\n",
              "      <td>Peaknetic</td>\n",
              "      <td>Soothe Electric bike</td>\n",
              "      <td>The Soothe is an everyday electric bike, from the makers of Exercycle  bikes, that conveys style while you get around the city. The Soothe lives up to its name by keeping your posture upright and relaxed for the ride ahead, keeping those aches and pains from riding at bay. It includes a low-step frame , our memory foam seat, bump-resistant shocks and conveniently placed thumb throttle.</td>\n",
              "    </tr>\n",
              "    <tr>\n",
              "      <td></td>\n",
              "      <td>0.38</td>\n",
              "      <td>bikes:009</td>\n",
              "      <td>Peaknetic</td>\n",
              "      <td>Secto</td>\n",
              "      <td>If you struggle with stiff fingers or a kinked neck or back after a few minutes on the road, this lightweight, aluminum bike alleviates those issues and allows you to enjoy the ride. From the ergonomic grips to the lumbar-supporting seat position, the Roll Low-Entry offers incredible comfort. The rear-inclined seat tube facilitates stability by allowing you to put a foot on the ground to balance at a stop, and the low step-over frame makes it accessible for all ability and mobility levels. Th...</td>\n",
              "    </tr>\n",
              "    <tr>\n",
              "      <td>Commuter bike for people over 60</td>\n",
              "      <td>0.36</td>\n",
              "      <td>bikes:008</td>\n",
              "      <td>Peaknetic</td>\n",
              "      <td>Soothe Electric bike</td>\n",
              "      <td>The Soothe is an everyday electric bike, from the makers of Exercycle  bikes, that conveys style while you get around the city. The Soothe lives up to its name by keeping your posture upright and relaxed for the ride ahead, keeping those aches and pains from riding at bay. It includes a low-step frame , our memory foam seat, bump-resistant shocks and conveniently placed thumb throttle.</td>\n",
              "    </tr>\n",
              "    <tr>\n",
              "      <td></td>\n",
              "      <td>0.33</td>\n",
              "      <td>bikes:009</td>\n",
              "      <td>Peaknetic</td>\n",
              "      <td>Secto</td>\n",
              "      <td>If you struggle with stiff fingers or a kinked neck or back after a few minutes on the road, this lightweight, aluminum bike alleviates those issues and allows you to enjoy the ride. From the ergonomic grips to the lumbar-supporting seat position, the Roll Low-Entry offers incredible comfort. The rear-inclined seat tube facilitates stability by allowing you to put a foot on the ground to balance at a stop, and the low step-over frame makes it accessible for all ability and mobility levels. Th...</td>\n",
              "    </tr>\n",
              "    <tr>\n",
              "      <td>Female specific mountain bike</td>\n",
              "      <td>0.23</td>\n",
              "      <td>bikes:009</td>\n",
              "      <td>Peaknetic</td>\n",
              "      <td>Secto</td>\n",
              "      <td>If you struggle with stiff fingers or a kinked neck or back after a few minutes on the road, this lightweight, aluminum bike alleviates those issues and allows you to enjoy the ride. From the ergonomic grips to the lumbar-supporting seat position, the Roll Low-Entry offers incredible comfort. The rear-inclined seat tube facilitates stability by allowing you to put a foot on the ground to balance at a stop, and the low step-over frame makes it accessible for all ability and mobility levels. Th...</td>\n",
              "    </tr>\n",
              "    <tr>\n",
              "      <td></td>\n",
              "      <td>0.21</td>\n",
              "      <td>bikes:008</td>\n",
              "      <td>Peaknetic</td>\n",
              "      <td>Soothe Electric bike</td>\n",
              "      <td>The Soothe is an everyday electric bike, from the makers of Exercycle  bikes, that conveys style while you get around the city. The Soothe lives up to its name by keeping your posture upright and relaxed for the ride ahead, keeping those aches and pains from riding at bay. It includes a low-step frame , our memory foam seat, bump-resistant shocks and conveniently placed thumb throttle.</td>\n",
              "    </tr>\n",
              "    <tr>\n",
              "      <td>Good bike for college students</td>\n",
              "      <td>0.34</td>\n",
              "      <td>bikes:009</td>\n",
              "      <td>Peaknetic</td>\n",
              "      <td>Secto</td>\n",
              "      <td>If you struggle with stiff fingers or a kinked neck or back after a few minutes on the road, this lightweight, aluminum bike alleviates those issues and allows you to enjoy the ride. From the ergonomic grips to the lumbar-supporting seat position, the Roll Low-Entry offers incredible comfort. The rear-inclined seat tube facilitates stability by allowing you to put a foot on the ground to balance at a stop, and the low step-over frame makes it accessible for all ability and mobility levels. Th...</td>\n",
              "    </tr>\n",
              "    <tr>\n",
              "      <td></td>\n",
              "      <td>0.24</td>\n",
              "      <td>bikes:008</td>\n",
              "      <td>Peaknetic</td>\n",
              "      <td>Soothe Electric bike</td>\n",
              "      <td>The Soothe is an everyday electric bike, from the makers of Exercycle  bikes, that conveys style while you get around the city. The Soothe lives up to its name by keeping your posture upright and relaxed for the ride ahead, keeping those aches and pains from riding at bay. It includes a low-step frame , our memory foam seat, bump-resistant shocks and conveniently placed thumb throttle.</td>\n",
              "    </tr>\n",
              "    <tr>\n",
              "      <td>Mountain bike for beginners</td>\n",
              "      <td>0.42</td>\n",
              "      <td>bikes:008</td>\n",
              "      <td>Peaknetic</td>\n",
              "      <td>Soothe Electric bike</td>\n",
              "      <td>The Soothe is an everyday electric bike, from the makers of Exercycle  bikes, that conveys style while you get around the city. The Soothe lives up to its name by keeping your posture upright and relaxed for the ride ahead, keeping those aches and pains from riding at bay. It includes a low-step frame , our memory foam seat, bump-resistant shocks and conveniently placed thumb throttle.</td>\n",
              "    </tr>\n",
              "    <tr>\n",
              "      <td></td>\n",
              "      <td>0.29</td>\n",
              "      <td>bikes:009</td>\n",
              "      <td>Peaknetic</td>\n",
              "      <td>Secto</td>\n",
              "      <td>If you struggle with stiff fingers or a kinked neck or back after a few minutes on the road, this lightweight, aluminum bike alleviates those issues and allows you to enjoy the ride. From the ergonomic grips to the lumbar-supporting seat position, the Roll Low-Entry offers incredible comfort. The rear-inclined seat tube facilitates stability by allowing you to put a foot on the ground to balance at a stop, and the low step-over frame makes it accessible for all ability and mobility levels. Th...</td>\n",
              "    </tr>\n",
              "    <tr>\n",
              "      <td>Road bike for beginners</td>\n",
              "      <td>0.44</td>\n",
              "      <td>bikes:008</td>\n",
              "      <td>Peaknetic</td>\n",
              "      <td>Soothe Electric bike</td>\n",
              "      <td>The Soothe is an everyday electric bike, from the makers of Exercycle  bikes, that conveys style while you get around the city. The Soothe lives up to its name by keeping your posture upright and relaxed for the ride ahead, keeping those aches and pains from riding at bay. It includes a low-step frame , our memory foam seat, bump-resistant shocks and conveniently placed thumb throttle.</td>\n",
              "    </tr>\n",
              "    <tr>\n",
              "      <td></td>\n",
              "      <td>0.29</td>\n",
              "      <td>bikes:009</td>\n",
              "      <td>Peaknetic</td>\n",
              "      <td>Secto</td>\n",
              "      <td>If you struggle with stiff fingers or a kinked neck or back after a few minutes on the road, this lightweight, aluminum bike alleviates those issues and allows you to enjoy the ride. From the ergonomic grips to the lumbar-supporting seat position, the Roll Low-Entry offers incredible comfort. The rear-inclined seat tube facilitates stability by allowing you to put a foot on the ground to balance at a stop, and the low step-over frame makes it accessible for all ability and mobility levels. Th...</td>\n",
              "    </tr>\n",
              "    <tr>\n",
              "      <td>Vintage bike</td>\n",
              "      <td>0.31</td>\n",
              "      <td>bikes:008</td>\n",
              "      <td>Peaknetic</td>\n",
              "      <td>Soothe Electric bike</td>\n",
              "      <td>The Soothe is an everyday electric bike, from the makers of Exercycle  bikes, that conveys style while you get around the city. The Soothe lives up to its name by keeping your posture upright and relaxed for the ride ahead, keeping those aches and pains from riding at bay. It includes a low-step frame , our memory foam seat, bump-resistant shocks and conveniently placed thumb throttle.</td>\n",
              "    </tr>\n",
              "    <tr>\n",
              "      <td></td>\n",
              "      <td>0.17</td>\n",
              "      <td>bikes:009</td>\n",
              "      <td>Peaknetic</td>\n",
              "      <td>Secto</td>\n",
              "      <td>If you struggle with stiff fingers or a kinked neck or back after a few minutes on the road, this lightweight, aluminum bike alleviates those issues and allows you to enjoy the ride. From the ergonomic grips to the lumbar-supporting seat position, the Roll Low-Entry offers incredible comfort. The rear-inclined seat tube facilitates stability by allowing you to put a foot on the ground to balance at a stop, and the low step-over frame makes it accessible for all ability and mobility levels. Th...</td>\n",
              "    </tr>\n",
              "  </tbody>\n",
              "</table>"
            ],
            "text/plain": [
              "<IPython.core.display.HTML object>"
            ]
          },
          "metadata": {},
          "output_type": "display_data"
        }
      ],
      "source": [
        "create_query_table(hybrid_query, queries, encoded_queries)"
      ]
    },
    {
      "attachments": {},
      "cell_type": "markdown",
      "metadata": {},
      "source": [
        "#### Creating a VSS Range Query \n",
        "\n",
        "Range queries in Vector Similarity Search (VSS) involve retrieving items within a specific distance from a query vector. In this case, we consider \"distance\" to be the measure of similarity we've used to build our search indices; the smaller the distance, the more similar the items.\n",
        "\n",
        "Let's say you want to find the bikes whose descriptions are within a certain distance from a query vector. We can use a range query to achieve this.\n",
        "For example, the query command to return the top `4` documents within a `0.55` radius of a vectorized query would be as follows: \n",
        "\n",
        "```\n",
        "1️⃣ FT.SEARCH idx:bikes_vss \n",
        "2️⃣   @vector:[VECTOR_RANGE $range $query_vector]=>{$YIELD_DISTANCE_AS: vector_score} \n",
        "3️⃣   SORTBY vector_score ASC\n",
        "4️⃣   LIMIT 0 4 \n",
        "5️⃣   DIALECT 2 \n",
        "6️⃣   PARAMS 4 range 0.55 query_vector \"\\x9d|\\x99>bV#\\xbfm\\x86\\x8a\\xbd\\xa7~$?*....\"\n",
        "```\n",
        "\n",
        "Where:\n",
        "\n",
        "- 1️⃣ We use the `FT.SEARCH` command with our `idx:bikes_vss`.\n",
        "- 2️⃣ and filter by the `vector` using the `VECTOR_RANGE` operator pasing the `$range` parameter, yield the vector distance between the vector field and the query result in a field named `vector_score`.\n",
        "- 3️⃣ We sort the results by the yielded `vector_score`.\n",
        "- 4️⃣ Limit the results to at most 4.\n",
        "- 5️⃣ Once again, we set the RediSearch dialect to `2` to enable VSS functionality.\n",
        "- 6️⃣ Finally we set the parameter values, `range` (`$range`) to `0.55` and the `query_vector` (`$query_vector`) to the encoded vectorized query. \n",
        "\n",
        "The equivalent Python query definition is shown below:"
      ]
    },
    {
      "cell_type": "code",
      "execution_count": 31,
      "metadata": {},
      "outputs": [],
      "source": [
        "range_query = (\n",
        "    Query('@vector:[VECTOR_RANGE $range $query_vector]=>{$YIELD_DISTANCE_AS: vector_score}') \n",
        "    .sort_by('vector_score')\n",
        "    .return_fields('vector_score', 'id', 'brand', 'model', 'description')\n",
        "    .paging(0, 4)\n",
        "    .dialect(2)\n",
        ")"
      ]
    },
    {
      "attachments": {},
      "cell_type": "markdown",
      "metadata": {},
      "source": [
        "Let's run the first query prompt in our collection of queries, \"Bike for small kids\", using the VSS range query defined (`range_query`). We can use the `create_query_table` utility function to execute the query passing the extra parameter `$range` as a dictionary:"
      ]
    },
    {
      "cell_type": "code",
      "execution_count": 32,
      "metadata": {},
      "outputs": [
        {
          "data": {
            "text/html": [
              "<table border=\"1\" class=\"dataframe\">\n",
              "  <thead>\n",
              "    <tr style=\"text-align: right;\">\n",
              "      <th>query</th>\n",
              "      <th>score</th>\n",
              "      <th>id</th>\n",
              "      <th>brand</th>\n",
              "      <th>model</th>\n",
              "      <th>description</th>\n",
              "    </tr>\n",
              "  </thead>\n",
              "  <tbody>\n",
              "    <tr>\n",
              "      <td>Bike for small kids</td>\n",
              "      <td>0.52</td>\n",
              "      <td>bikes:001</td>\n",
              "      <td>Velorim</td>\n",
              "      <td>Jigger</td>\n",
              "      <td>Small and powerful, the Jigger is the best ride for the smallest of tikes! This is the tiniest kids’ pedal bike on the market available without a coaster brake, the Jigger is the vehicle of choice for the rare tenacious little rider raring to go. We say rare because this smokin’ little bike is not ideal for a nervous first-time rider, but it’s a true giddy up for a true speedster. The Jigger is a 12 inch lightweight kids bicycle and it will meet your little one’s need for speed. It’s a single...</td>\n",
              "    </tr>\n",
              "    <tr>\n",
              "      <td></td>\n",
              "      <td>0.45</td>\n",
              "      <td>bikes:007</td>\n",
              "      <td>ScramBikes</td>\n",
              "      <td>WattBike</td>\n",
              "      <td>The WattBike is the best e-bike for people who still feel young at heart. It has a  Bafang 500 watt geared hub motor that can reach 20 miles per hour on both steep inclines and city streets. The lithium-ion battery, which gets nearly 40 miles per charge, has a lightweight form factor, making it easier for seniors to use. It comes fully assembled (no convoluted instructions!) and includes a sturdy helmet at no cost. The Plush saddle softens over time with use. The included Seatpost, however, i...</td>\n",
              "    </tr>\n",
              "  </tbody>\n",
              "</table>"
            ],
            "text/plain": [
              "<IPython.core.display.HTML object>"
            ]
          },
          "metadata": {},
          "output_type": "display_data"
        }
      ],
      "source": [
        "create_query_table(range_query, queries[:1], encoded_queries[:1], {'range': 0.55})"
      ]
    },
    {
      "attachments": {},
      "cell_type": "markdown",
      "metadata": {},
      "source": [
        "The query returns two bikes in the specified range of our vectorized query, both with scores at or below `0.55`."
      ]
    },
    {
      "attachments": {},
      "cell_type": "markdown",
      "metadata": {},
      "source": [
        "## Wrapping Up\n",
        "\n",
        "In this guide, we learned how Redis, using the Redis Stack distribution, provides powerful search capabilities over structured and unstructured data. Redis support for vector data can enrich and enhance the user's search experience.\n",
        "Although we focused on generating embeddings for unstructured data, the vector similarity approach can equally be employed with structure data, as long as a suitable vector generation technique is used.\n",
        "\n",
        "The references below can help you learn more about Redis search capabilities:\n",
        "* https://redis.io/docs/stack/search/\n",
        "* https://redis.io/docs/stack/search/indexing_json/"
      ]
    }
  ],
  "metadata": {
    "colab": {
      "provenance": []
    },
    "gpuClass": "standard",
    "kernelspec": {
      "display_name": "Python 3",
      "name": "python3"
    },
    "language_info": {
      "codemirror_mode": {
        "name": "ipython",
        "version": 3
      },
      "file_extension": ".py",
      "mimetype": "text/x-python",
      "name": "python",
      "nbconvert_exporter": "python",
      "pygments_lexer": "ipython3",
      "version": "3.11.3"
    }
  },
  "nbformat": 4,
  "nbformat_minor": 0
}
